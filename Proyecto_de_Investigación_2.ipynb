{
  "nbformat": 4,
  "nbformat_minor": 0,
  "metadata": {
    "colab": {
      "name": "Proyecto de Investigación 2.ipynb",
      "provenance": [],
      "authorship_tag": "ABX9TyNiH+y005ioq9CDtTpK2VR/",
      "include_colab_link": true
    },
    "kernelspec": {
      "name": "python3",
      "display_name": "Python 3"
    },
    "language_info": {
      "name": "python"
    }
  },
  "cells": [
    {
      "cell_type": "markdown",
      "metadata": {
        "id": "view-in-github",
        "colab_type": "text"
      },
      "source": [
        "<a href=\"https://colab.research.google.com/github/AlexRoman938/Clases_Frejoles_ML_Course/blob/main/Proyecto_de_Investigaci%C3%B3n_2.ipynb\" target=\"_parent\"><img src=\"https://colab.research.google.com/assets/colab-badge.svg\" alt=\"Open In Colab\"/></a>"
      ]
    },
    {
      "cell_type": "code",
      "execution_count": null,
      "metadata": {
        "colab": {
          "base_uri": "https://localhost:8080/"
        },
        "id": "H58LVyn9UqzK",
        "outputId": "9c909a88-47cf-4ee6-c9b1-c4080d0d8182"
      },
      "outputs": [
        {
          "output_type": "stream",
          "name": "stdout",
          "text": [
            "Mounted at /content/drive\n"
          ]
        }
      ],
      "source": [
        "#Imports\n",
        "from google.colab import drive\n",
        "drive.mount('/content/drive')"
      ]
    },
    {
      "cell_type": "code",
      "source": [
        "import pandas as pd\n",
        "import matplotlib.pyplot as plt\n",
        "import seaborn as sns"
      ],
      "metadata": {
        "id": "Hr71W7nkWkqR"
      },
      "execution_count": null,
      "outputs": []
    },
    {
      "cell_type": "code",
      "source": [
        "sns.set_style(\"darkgrid\")"
      ],
      "metadata": {
        "id": "AzQn5KN-Wuhd"
      },
      "execution_count": null,
      "outputs": []
    },
    {
      "cell_type": "code",
      "source": [
        "df_dry_ben = pd.read_excel('/content/drive/MyDrive/DATASETS/Dry_Bean/Dry_Bean_Dataset.xlsx')\n",
        "df_dry_ben"
      ],
      "metadata": {
        "colab": {
          "base_uri": "https://localhost:8080/",
          "height": 488
        },
        "id": "S82i73YnWu_K",
        "outputId": "d175a29d-13a4-4a7d-881e-f5b309e4cb13"
      },
      "execution_count": null,
      "outputs": [
        {
          "output_type": "execute_result",
          "data": {
            "text/plain": [
              "        Area  Perimeter  MajorAxisLength  MinorAxisLength  AspectRation  \\\n",
              "0      28395    610.291       208.178117       173.888747      1.197191   \n",
              "1      28734    638.018       200.524796       182.734419      1.097356   \n",
              "2      29380    624.110       212.826130       175.931143      1.209713   \n",
              "3      30008    645.884       210.557999       182.516516      1.153638   \n",
              "4      30140    620.134       201.847882       190.279279      1.060798   \n",
              "...      ...        ...              ...              ...           ...   \n",
              "13606  42097    759.696       288.721612       185.944705      1.552728   \n",
              "13607  42101    757.499       281.576392       190.713136      1.476439   \n",
              "13608  42139    759.321       281.539928       191.187979      1.472582   \n",
              "13609  42147    763.779       283.382636       190.275731      1.489326   \n",
              "13610  42159    772.237       295.142741       182.204716      1.619841   \n",
              "\n",
              "       Eccentricity  ConvexArea  EquivDiameter    Extent  Solidity  roundness  \\\n",
              "0          0.549812       28715     190.141097  0.763923  0.988856   0.958027   \n",
              "1          0.411785       29172     191.272750  0.783968  0.984986   0.887034   \n",
              "2          0.562727       29690     193.410904  0.778113  0.989559   0.947849   \n",
              "3          0.498616       30724     195.467062  0.782681  0.976696   0.903936   \n",
              "4          0.333680       30417     195.896503  0.773098  0.990893   0.984877   \n",
              "...             ...         ...            ...       ...       ...        ...   \n",
              "13606      0.765002       42508     231.515799  0.714574  0.990331   0.916603   \n",
              "13607      0.735702       42494     231.526798  0.799943  0.990752   0.922015   \n",
              "13608      0.734065       42569     231.631261  0.729932  0.989899   0.918424   \n",
              "13609      0.741055       42667     231.653248  0.705389  0.987813   0.907906   \n",
              "13610      0.786693       42600     231.686223  0.788962  0.989648   0.888380   \n",
              "\n",
              "       Compactness  ShapeFactor1  ShapeFactor2  ShapeFactor3  ShapeFactor4  \\\n",
              "0         0.913358      0.007332      0.003147      0.834222      0.998724   \n",
              "1         0.953861      0.006979      0.003564      0.909851      0.998430   \n",
              "2         0.908774      0.007244      0.003048      0.825871      0.999066   \n",
              "3         0.928329      0.007017      0.003215      0.861794      0.994199   \n",
              "4         0.970516      0.006697      0.003665      0.941900      0.999166   \n",
              "...            ...           ...           ...           ...           ...   \n",
              "13606     0.801865      0.006858      0.001749      0.642988      0.998385   \n",
              "13607     0.822252      0.006688      0.001886      0.676099      0.998219   \n",
              "13608     0.822730      0.006681      0.001888      0.676884      0.996767   \n",
              "13609     0.817457      0.006724      0.001852      0.668237      0.995222   \n",
              "13610     0.784997      0.007001      0.001640      0.616221      0.998180   \n",
              "\n",
              "          Class  \n",
              "0         SEKER  \n",
              "1         SEKER  \n",
              "2         SEKER  \n",
              "3         SEKER  \n",
              "4         SEKER  \n",
              "...         ...  \n",
              "13606  DERMASON  \n",
              "13607  DERMASON  \n",
              "13608  DERMASON  \n",
              "13609  DERMASON  \n",
              "13610  DERMASON  \n",
              "\n",
              "[13611 rows x 17 columns]"
            ],
            "text/html": [
              "\n",
              "  <div id=\"df-bae47438-2454-4c77-8dc0-466220eb8ff1\">\n",
              "    <div class=\"colab-df-container\">\n",
              "      <div>\n",
              "<style scoped>\n",
              "    .dataframe tbody tr th:only-of-type {\n",
              "        vertical-align: middle;\n",
              "    }\n",
              "\n",
              "    .dataframe tbody tr th {\n",
              "        vertical-align: top;\n",
              "    }\n",
              "\n",
              "    .dataframe thead th {\n",
              "        text-align: right;\n",
              "    }\n",
              "</style>\n",
              "<table border=\"1\" class=\"dataframe\">\n",
              "  <thead>\n",
              "    <tr style=\"text-align: right;\">\n",
              "      <th></th>\n",
              "      <th>Area</th>\n",
              "      <th>Perimeter</th>\n",
              "      <th>MajorAxisLength</th>\n",
              "      <th>MinorAxisLength</th>\n",
              "      <th>AspectRation</th>\n",
              "      <th>Eccentricity</th>\n",
              "      <th>ConvexArea</th>\n",
              "      <th>EquivDiameter</th>\n",
              "      <th>Extent</th>\n",
              "      <th>Solidity</th>\n",
              "      <th>roundness</th>\n",
              "      <th>Compactness</th>\n",
              "      <th>ShapeFactor1</th>\n",
              "      <th>ShapeFactor2</th>\n",
              "      <th>ShapeFactor3</th>\n",
              "      <th>ShapeFactor4</th>\n",
              "      <th>Class</th>\n",
              "    </tr>\n",
              "  </thead>\n",
              "  <tbody>\n",
              "    <tr>\n",
              "      <th>0</th>\n",
              "      <td>28395</td>\n",
              "      <td>610.291</td>\n",
              "      <td>208.178117</td>\n",
              "      <td>173.888747</td>\n",
              "      <td>1.197191</td>\n",
              "      <td>0.549812</td>\n",
              "      <td>28715</td>\n",
              "      <td>190.141097</td>\n",
              "      <td>0.763923</td>\n",
              "      <td>0.988856</td>\n",
              "      <td>0.958027</td>\n",
              "      <td>0.913358</td>\n",
              "      <td>0.007332</td>\n",
              "      <td>0.003147</td>\n",
              "      <td>0.834222</td>\n",
              "      <td>0.998724</td>\n",
              "      <td>SEKER</td>\n",
              "    </tr>\n",
              "    <tr>\n",
              "      <th>1</th>\n",
              "      <td>28734</td>\n",
              "      <td>638.018</td>\n",
              "      <td>200.524796</td>\n",
              "      <td>182.734419</td>\n",
              "      <td>1.097356</td>\n",
              "      <td>0.411785</td>\n",
              "      <td>29172</td>\n",
              "      <td>191.272750</td>\n",
              "      <td>0.783968</td>\n",
              "      <td>0.984986</td>\n",
              "      <td>0.887034</td>\n",
              "      <td>0.953861</td>\n",
              "      <td>0.006979</td>\n",
              "      <td>0.003564</td>\n",
              "      <td>0.909851</td>\n",
              "      <td>0.998430</td>\n",
              "      <td>SEKER</td>\n",
              "    </tr>\n",
              "    <tr>\n",
              "      <th>2</th>\n",
              "      <td>29380</td>\n",
              "      <td>624.110</td>\n",
              "      <td>212.826130</td>\n",
              "      <td>175.931143</td>\n",
              "      <td>1.209713</td>\n",
              "      <td>0.562727</td>\n",
              "      <td>29690</td>\n",
              "      <td>193.410904</td>\n",
              "      <td>0.778113</td>\n",
              "      <td>0.989559</td>\n",
              "      <td>0.947849</td>\n",
              "      <td>0.908774</td>\n",
              "      <td>0.007244</td>\n",
              "      <td>0.003048</td>\n",
              "      <td>0.825871</td>\n",
              "      <td>0.999066</td>\n",
              "      <td>SEKER</td>\n",
              "    </tr>\n",
              "    <tr>\n",
              "      <th>3</th>\n",
              "      <td>30008</td>\n",
              "      <td>645.884</td>\n",
              "      <td>210.557999</td>\n",
              "      <td>182.516516</td>\n",
              "      <td>1.153638</td>\n",
              "      <td>0.498616</td>\n",
              "      <td>30724</td>\n",
              "      <td>195.467062</td>\n",
              "      <td>0.782681</td>\n",
              "      <td>0.976696</td>\n",
              "      <td>0.903936</td>\n",
              "      <td>0.928329</td>\n",
              "      <td>0.007017</td>\n",
              "      <td>0.003215</td>\n",
              "      <td>0.861794</td>\n",
              "      <td>0.994199</td>\n",
              "      <td>SEKER</td>\n",
              "    </tr>\n",
              "    <tr>\n",
              "      <th>4</th>\n",
              "      <td>30140</td>\n",
              "      <td>620.134</td>\n",
              "      <td>201.847882</td>\n",
              "      <td>190.279279</td>\n",
              "      <td>1.060798</td>\n",
              "      <td>0.333680</td>\n",
              "      <td>30417</td>\n",
              "      <td>195.896503</td>\n",
              "      <td>0.773098</td>\n",
              "      <td>0.990893</td>\n",
              "      <td>0.984877</td>\n",
              "      <td>0.970516</td>\n",
              "      <td>0.006697</td>\n",
              "      <td>0.003665</td>\n",
              "      <td>0.941900</td>\n",
              "      <td>0.999166</td>\n",
              "      <td>SEKER</td>\n",
              "    </tr>\n",
              "    <tr>\n",
              "      <th>...</th>\n",
              "      <td>...</td>\n",
              "      <td>...</td>\n",
              "      <td>...</td>\n",
              "      <td>...</td>\n",
              "      <td>...</td>\n",
              "      <td>...</td>\n",
              "      <td>...</td>\n",
              "      <td>...</td>\n",
              "      <td>...</td>\n",
              "      <td>...</td>\n",
              "      <td>...</td>\n",
              "      <td>...</td>\n",
              "      <td>...</td>\n",
              "      <td>...</td>\n",
              "      <td>...</td>\n",
              "      <td>...</td>\n",
              "      <td>...</td>\n",
              "    </tr>\n",
              "    <tr>\n",
              "      <th>13606</th>\n",
              "      <td>42097</td>\n",
              "      <td>759.696</td>\n",
              "      <td>288.721612</td>\n",
              "      <td>185.944705</td>\n",
              "      <td>1.552728</td>\n",
              "      <td>0.765002</td>\n",
              "      <td>42508</td>\n",
              "      <td>231.515799</td>\n",
              "      <td>0.714574</td>\n",
              "      <td>0.990331</td>\n",
              "      <td>0.916603</td>\n",
              "      <td>0.801865</td>\n",
              "      <td>0.006858</td>\n",
              "      <td>0.001749</td>\n",
              "      <td>0.642988</td>\n",
              "      <td>0.998385</td>\n",
              "      <td>DERMASON</td>\n",
              "    </tr>\n",
              "    <tr>\n",
              "      <th>13607</th>\n",
              "      <td>42101</td>\n",
              "      <td>757.499</td>\n",
              "      <td>281.576392</td>\n",
              "      <td>190.713136</td>\n",
              "      <td>1.476439</td>\n",
              "      <td>0.735702</td>\n",
              "      <td>42494</td>\n",
              "      <td>231.526798</td>\n",
              "      <td>0.799943</td>\n",
              "      <td>0.990752</td>\n",
              "      <td>0.922015</td>\n",
              "      <td>0.822252</td>\n",
              "      <td>0.006688</td>\n",
              "      <td>0.001886</td>\n",
              "      <td>0.676099</td>\n",
              "      <td>0.998219</td>\n",
              "      <td>DERMASON</td>\n",
              "    </tr>\n",
              "    <tr>\n",
              "      <th>13608</th>\n",
              "      <td>42139</td>\n",
              "      <td>759.321</td>\n",
              "      <td>281.539928</td>\n",
              "      <td>191.187979</td>\n",
              "      <td>1.472582</td>\n",
              "      <td>0.734065</td>\n",
              "      <td>42569</td>\n",
              "      <td>231.631261</td>\n",
              "      <td>0.729932</td>\n",
              "      <td>0.989899</td>\n",
              "      <td>0.918424</td>\n",
              "      <td>0.822730</td>\n",
              "      <td>0.006681</td>\n",
              "      <td>0.001888</td>\n",
              "      <td>0.676884</td>\n",
              "      <td>0.996767</td>\n",
              "      <td>DERMASON</td>\n",
              "    </tr>\n",
              "    <tr>\n",
              "      <th>13609</th>\n",
              "      <td>42147</td>\n",
              "      <td>763.779</td>\n",
              "      <td>283.382636</td>\n",
              "      <td>190.275731</td>\n",
              "      <td>1.489326</td>\n",
              "      <td>0.741055</td>\n",
              "      <td>42667</td>\n",
              "      <td>231.653248</td>\n",
              "      <td>0.705389</td>\n",
              "      <td>0.987813</td>\n",
              "      <td>0.907906</td>\n",
              "      <td>0.817457</td>\n",
              "      <td>0.006724</td>\n",
              "      <td>0.001852</td>\n",
              "      <td>0.668237</td>\n",
              "      <td>0.995222</td>\n",
              "      <td>DERMASON</td>\n",
              "    </tr>\n",
              "    <tr>\n",
              "      <th>13610</th>\n",
              "      <td>42159</td>\n",
              "      <td>772.237</td>\n",
              "      <td>295.142741</td>\n",
              "      <td>182.204716</td>\n",
              "      <td>1.619841</td>\n",
              "      <td>0.786693</td>\n",
              "      <td>42600</td>\n",
              "      <td>231.686223</td>\n",
              "      <td>0.788962</td>\n",
              "      <td>0.989648</td>\n",
              "      <td>0.888380</td>\n",
              "      <td>0.784997</td>\n",
              "      <td>0.007001</td>\n",
              "      <td>0.001640</td>\n",
              "      <td>0.616221</td>\n",
              "      <td>0.998180</td>\n",
              "      <td>DERMASON</td>\n",
              "    </tr>\n",
              "  </tbody>\n",
              "</table>\n",
              "<p>13611 rows × 17 columns</p>\n",
              "</div>\n",
              "      <button class=\"colab-df-convert\" onclick=\"convertToInteractive('df-bae47438-2454-4c77-8dc0-466220eb8ff1')\"\n",
              "              title=\"Convert this dataframe to an interactive table.\"\n",
              "              style=\"display:none;\">\n",
              "        \n",
              "  <svg xmlns=\"http://www.w3.org/2000/svg\" height=\"24px\"viewBox=\"0 0 24 24\"\n",
              "       width=\"24px\">\n",
              "    <path d=\"M0 0h24v24H0V0z\" fill=\"none\"/>\n",
              "    <path d=\"M18.56 5.44l.94 2.06.94-2.06 2.06-.94-2.06-.94-.94-2.06-.94 2.06-2.06.94zm-11 1L8.5 8.5l.94-2.06 2.06-.94-2.06-.94L8.5 2.5l-.94 2.06-2.06.94zm10 10l.94 2.06.94-2.06 2.06-.94-2.06-.94-.94-2.06-.94 2.06-2.06.94z\"/><path d=\"M17.41 7.96l-1.37-1.37c-.4-.4-.92-.59-1.43-.59-.52 0-1.04.2-1.43.59L10.3 9.45l-7.72 7.72c-.78.78-.78 2.05 0 2.83L4 21.41c.39.39.9.59 1.41.59.51 0 1.02-.2 1.41-.59l7.78-7.78 2.81-2.81c.8-.78.8-2.07 0-2.86zM5.41 20L4 18.59l7.72-7.72 1.47 1.35L5.41 20z\"/>\n",
              "  </svg>\n",
              "      </button>\n",
              "      \n",
              "  <style>\n",
              "    .colab-df-container {\n",
              "      display:flex;\n",
              "      flex-wrap:wrap;\n",
              "      gap: 12px;\n",
              "    }\n",
              "\n",
              "    .colab-df-convert {\n",
              "      background-color: #E8F0FE;\n",
              "      border: none;\n",
              "      border-radius: 50%;\n",
              "      cursor: pointer;\n",
              "      display: none;\n",
              "      fill: #1967D2;\n",
              "      height: 32px;\n",
              "      padding: 0 0 0 0;\n",
              "      width: 32px;\n",
              "    }\n",
              "\n",
              "    .colab-df-convert:hover {\n",
              "      background-color: #E2EBFA;\n",
              "      box-shadow: 0px 1px 2px rgba(60, 64, 67, 0.3), 0px 1px 3px 1px rgba(60, 64, 67, 0.15);\n",
              "      fill: #174EA6;\n",
              "    }\n",
              "\n",
              "    [theme=dark] .colab-df-convert {\n",
              "      background-color: #3B4455;\n",
              "      fill: #D2E3FC;\n",
              "    }\n",
              "\n",
              "    [theme=dark] .colab-df-convert:hover {\n",
              "      background-color: #434B5C;\n",
              "      box-shadow: 0px 1px 3px 1px rgba(0, 0, 0, 0.15);\n",
              "      filter: drop-shadow(0px 1px 2px rgba(0, 0, 0, 0.3));\n",
              "      fill: #FFFFFF;\n",
              "    }\n",
              "  </style>\n",
              "\n",
              "      <script>\n",
              "        const buttonEl =\n",
              "          document.querySelector('#df-bae47438-2454-4c77-8dc0-466220eb8ff1 button.colab-df-convert');\n",
              "        buttonEl.style.display =\n",
              "          google.colab.kernel.accessAllowed ? 'block' : 'none';\n",
              "\n",
              "        async function convertToInteractive(key) {\n",
              "          const element = document.querySelector('#df-bae47438-2454-4c77-8dc0-466220eb8ff1');\n",
              "          const dataTable =\n",
              "            await google.colab.kernel.invokeFunction('convertToInteractive',\n",
              "                                                     [key], {});\n",
              "          if (!dataTable) return;\n",
              "\n",
              "          const docLinkHtml = 'Like what you see? Visit the ' +\n",
              "            '<a target=\"_blank\" href=https://colab.research.google.com/notebooks/data_table.ipynb>data table notebook</a>'\n",
              "            + ' to learn more about interactive tables.';\n",
              "          element.innerHTML = '';\n",
              "          dataTable['output_type'] = 'display_data';\n",
              "          await google.colab.output.renderOutput(dataTable, element);\n",
              "          const docLink = document.createElement('div');\n",
              "          docLink.innerHTML = docLinkHtml;\n",
              "          element.appendChild(docLink);\n",
              "        }\n",
              "      </script>\n",
              "    </div>\n",
              "  </div>\n",
              "  "
            ]
          },
          "metadata": {},
          "execution_count": 5
        }
      ]
    },
    {
      "cell_type": "code",
      "source": [
        "df_dry_ben.info()"
      ],
      "metadata": {
        "colab": {
          "base_uri": "https://localhost:8080/"
        },
        "id": "RPihT0ROcjQc",
        "outputId": "5793a0b1-60e0-4e6a-8bb9-c03d7e580611"
      },
      "execution_count": null,
      "outputs": [
        {
          "output_type": "stream",
          "name": "stdout",
          "text": [
            "<class 'pandas.core.frame.DataFrame'>\n",
            "RangeIndex: 13611 entries, 0 to 13610\n",
            "Data columns (total 17 columns):\n",
            " #   Column           Non-Null Count  Dtype  \n",
            "---  ------           --------------  -----  \n",
            " 0   Area             13611 non-null  int64  \n",
            " 1   Perimeter        13611 non-null  float64\n",
            " 2   MajorAxisLength  13611 non-null  float64\n",
            " 3   MinorAxisLength  13611 non-null  float64\n",
            " 4   AspectRation     13611 non-null  float64\n",
            " 5   Eccentricity     13611 non-null  float64\n",
            " 6   ConvexArea       13611 non-null  int64  \n",
            " 7   EquivDiameter    13611 non-null  float64\n",
            " 8   Extent           13611 non-null  float64\n",
            " 9   Solidity         13611 non-null  float64\n",
            " 10  roundness        13611 non-null  float64\n",
            " 11  Compactness      13611 non-null  float64\n",
            " 12  ShapeFactor1     13611 non-null  float64\n",
            " 13  ShapeFactor2     13611 non-null  float64\n",
            " 14  ShapeFactor3     13611 non-null  float64\n",
            " 15  ShapeFactor4     13611 non-null  float64\n",
            " 16  Class            13611 non-null  object \n",
            "dtypes: float64(14), int64(2), object(1)\n",
            "memory usage: 1.8+ MB\n"
          ]
        }
      ]
    },
    {
      "cell_type": "code",
      "source": [
        "df_dry_ben.describe()"
      ],
      "metadata": {
        "id": "9cmUEr1JcmtX",
        "outputId": "28f5d022-8b71-4012-9768-639d6100144e",
        "colab": {
          "base_uri": "https://localhost:8080/",
          "height": 364
        }
      },
      "execution_count": null,
      "outputs": [
        {
          "output_type": "execute_result",
          "data": {
            "text/plain": [
              "                Area     Perimeter  MajorAxisLength  MinorAxisLength  \\\n",
              "count   13611.000000  13611.000000     13611.000000     13611.000000   \n",
              "mean    53048.284549    855.283459       320.141867       202.270714   \n",
              "std     29324.095717    214.289696        85.694186        44.970091   \n",
              "min     20420.000000    524.736000       183.601165       122.512653   \n",
              "25%     36328.000000    703.523500       253.303633       175.848170   \n",
              "50%     44652.000000    794.941000       296.883367       192.431733   \n",
              "75%     61332.000000    977.213000       376.495012       217.031741   \n",
              "max    254616.000000   1985.370000       738.860153       460.198497   \n",
              "\n",
              "       AspectRation  Eccentricity     ConvexArea  EquivDiameter        Extent  \\\n",
              "count  13611.000000  13611.000000   13611.000000   13611.000000  13611.000000   \n",
              "mean       1.583242      0.750895   53768.200206     253.064220      0.749733   \n",
              "std        0.246678      0.092002   29774.915817      59.177120      0.049086   \n",
              "min        1.024868      0.218951   20684.000000     161.243764      0.555315   \n",
              "25%        1.432307      0.715928   36714.500000     215.068003      0.718634   \n",
              "50%        1.551124      0.764441   45178.000000     238.438026      0.759859   \n",
              "75%        1.707109      0.810466   62294.000000     279.446467      0.786851   \n",
              "max        2.430306      0.911423  263261.000000     569.374358      0.866195   \n",
              "\n",
              "           Solidity     roundness   Compactness  ShapeFactor1  ShapeFactor2  \\\n",
              "count  13611.000000  13611.000000  13611.000000  13611.000000  13611.000000   \n",
              "mean       0.987143      0.873282      0.799864      0.006564      0.001716   \n",
              "std        0.004660      0.059520      0.061713      0.001128      0.000596   \n",
              "min        0.919246      0.489618      0.640577      0.002778      0.000564   \n",
              "25%        0.985670      0.832096      0.762469      0.005900      0.001154   \n",
              "50%        0.988283      0.883157      0.801277      0.006645      0.001694   \n",
              "75%        0.990013      0.916869      0.834270      0.007271      0.002170   \n",
              "max        0.994677      0.990685      0.987303      0.010451      0.003665   \n",
              "\n",
              "       ShapeFactor3  ShapeFactor4  \n",
              "count  13611.000000  13611.000000  \n",
              "mean       0.643590      0.995063  \n",
              "std        0.098996      0.004366  \n",
              "min        0.410339      0.947687  \n",
              "25%        0.581359      0.993703  \n",
              "50%        0.642044      0.996386  \n",
              "75%        0.696006      0.997883  \n",
              "max        0.974767      0.999733  "
            ],
            "text/html": [
              "\n",
              "  <div id=\"df-4fb11c61-4999-4ecf-8894-2e0cb0b09f8f\">\n",
              "    <div class=\"colab-df-container\">\n",
              "      <div>\n",
              "<style scoped>\n",
              "    .dataframe tbody tr th:only-of-type {\n",
              "        vertical-align: middle;\n",
              "    }\n",
              "\n",
              "    .dataframe tbody tr th {\n",
              "        vertical-align: top;\n",
              "    }\n",
              "\n",
              "    .dataframe thead th {\n",
              "        text-align: right;\n",
              "    }\n",
              "</style>\n",
              "<table border=\"1\" class=\"dataframe\">\n",
              "  <thead>\n",
              "    <tr style=\"text-align: right;\">\n",
              "      <th></th>\n",
              "      <th>Area</th>\n",
              "      <th>Perimeter</th>\n",
              "      <th>MajorAxisLength</th>\n",
              "      <th>MinorAxisLength</th>\n",
              "      <th>AspectRation</th>\n",
              "      <th>Eccentricity</th>\n",
              "      <th>ConvexArea</th>\n",
              "      <th>EquivDiameter</th>\n",
              "      <th>Extent</th>\n",
              "      <th>Solidity</th>\n",
              "      <th>roundness</th>\n",
              "      <th>Compactness</th>\n",
              "      <th>ShapeFactor1</th>\n",
              "      <th>ShapeFactor2</th>\n",
              "      <th>ShapeFactor3</th>\n",
              "      <th>ShapeFactor4</th>\n",
              "    </tr>\n",
              "  </thead>\n",
              "  <tbody>\n",
              "    <tr>\n",
              "      <th>count</th>\n",
              "      <td>13611.000000</td>\n",
              "      <td>13611.000000</td>\n",
              "      <td>13611.000000</td>\n",
              "      <td>13611.000000</td>\n",
              "      <td>13611.000000</td>\n",
              "      <td>13611.000000</td>\n",
              "      <td>13611.000000</td>\n",
              "      <td>13611.000000</td>\n",
              "      <td>13611.000000</td>\n",
              "      <td>13611.000000</td>\n",
              "      <td>13611.000000</td>\n",
              "      <td>13611.000000</td>\n",
              "      <td>13611.000000</td>\n",
              "      <td>13611.000000</td>\n",
              "      <td>13611.000000</td>\n",
              "      <td>13611.000000</td>\n",
              "    </tr>\n",
              "    <tr>\n",
              "      <th>mean</th>\n",
              "      <td>53048.284549</td>\n",
              "      <td>855.283459</td>\n",
              "      <td>320.141867</td>\n",
              "      <td>202.270714</td>\n",
              "      <td>1.583242</td>\n",
              "      <td>0.750895</td>\n",
              "      <td>53768.200206</td>\n",
              "      <td>253.064220</td>\n",
              "      <td>0.749733</td>\n",
              "      <td>0.987143</td>\n",
              "      <td>0.873282</td>\n",
              "      <td>0.799864</td>\n",
              "      <td>0.006564</td>\n",
              "      <td>0.001716</td>\n",
              "      <td>0.643590</td>\n",
              "      <td>0.995063</td>\n",
              "    </tr>\n",
              "    <tr>\n",
              "      <th>std</th>\n",
              "      <td>29324.095717</td>\n",
              "      <td>214.289696</td>\n",
              "      <td>85.694186</td>\n",
              "      <td>44.970091</td>\n",
              "      <td>0.246678</td>\n",
              "      <td>0.092002</td>\n",
              "      <td>29774.915817</td>\n",
              "      <td>59.177120</td>\n",
              "      <td>0.049086</td>\n",
              "      <td>0.004660</td>\n",
              "      <td>0.059520</td>\n",
              "      <td>0.061713</td>\n",
              "      <td>0.001128</td>\n",
              "      <td>0.000596</td>\n",
              "      <td>0.098996</td>\n",
              "      <td>0.004366</td>\n",
              "    </tr>\n",
              "    <tr>\n",
              "      <th>min</th>\n",
              "      <td>20420.000000</td>\n",
              "      <td>524.736000</td>\n",
              "      <td>183.601165</td>\n",
              "      <td>122.512653</td>\n",
              "      <td>1.024868</td>\n",
              "      <td>0.218951</td>\n",
              "      <td>20684.000000</td>\n",
              "      <td>161.243764</td>\n",
              "      <td>0.555315</td>\n",
              "      <td>0.919246</td>\n",
              "      <td>0.489618</td>\n",
              "      <td>0.640577</td>\n",
              "      <td>0.002778</td>\n",
              "      <td>0.000564</td>\n",
              "      <td>0.410339</td>\n",
              "      <td>0.947687</td>\n",
              "    </tr>\n",
              "    <tr>\n",
              "      <th>25%</th>\n",
              "      <td>36328.000000</td>\n",
              "      <td>703.523500</td>\n",
              "      <td>253.303633</td>\n",
              "      <td>175.848170</td>\n",
              "      <td>1.432307</td>\n",
              "      <td>0.715928</td>\n",
              "      <td>36714.500000</td>\n",
              "      <td>215.068003</td>\n",
              "      <td>0.718634</td>\n",
              "      <td>0.985670</td>\n",
              "      <td>0.832096</td>\n",
              "      <td>0.762469</td>\n",
              "      <td>0.005900</td>\n",
              "      <td>0.001154</td>\n",
              "      <td>0.581359</td>\n",
              "      <td>0.993703</td>\n",
              "    </tr>\n",
              "    <tr>\n",
              "      <th>50%</th>\n",
              "      <td>44652.000000</td>\n",
              "      <td>794.941000</td>\n",
              "      <td>296.883367</td>\n",
              "      <td>192.431733</td>\n",
              "      <td>1.551124</td>\n",
              "      <td>0.764441</td>\n",
              "      <td>45178.000000</td>\n",
              "      <td>238.438026</td>\n",
              "      <td>0.759859</td>\n",
              "      <td>0.988283</td>\n",
              "      <td>0.883157</td>\n",
              "      <td>0.801277</td>\n",
              "      <td>0.006645</td>\n",
              "      <td>0.001694</td>\n",
              "      <td>0.642044</td>\n",
              "      <td>0.996386</td>\n",
              "    </tr>\n",
              "    <tr>\n",
              "      <th>75%</th>\n",
              "      <td>61332.000000</td>\n",
              "      <td>977.213000</td>\n",
              "      <td>376.495012</td>\n",
              "      <td>217.031741</td>\n",
              "      <td>1.707109</td>\n",
              "      <td>0.810466</td>\n",
              "      <td>62294.000000</td>\n",
              "      <td>279.446467</td>\n",
              "      <td>0.786851</td>\n",
              "      <td>0.990013</td>\n",
              "      <td>0.916869</td>\n",
              "      <td>0.834270</td>\n",
              "      <td>0.007271</td>\n",
              "      <td>0.002170</td>\n",
              "      <td>0.696006</td>\n",
              "      <td>0.997883</td>\n",
              "    </tr>\n",
              "    <tr>\n",
              "      <th>max</th>\n",
              "      <td>254616.000000</td>\n",
              "      <td>1985.370000</td>\n",
              "      <td>738.860153</td>\n",
              "      <td>460.198497</td>\n",
              "      <td>2.430306</td>\n",
              "      <td>0.911423</td>\n",
              "      <td>263261.000000</td>\n",
              "      <td>569.374358</td>\n",
              "      <td>0.866195</td>\n",
              "      <td>0.994677</td>\n",
              "      <td>0.990685</td>\n",
              "      <td>0.987303</td>\n",
              "      <td>0.010451</td>\n",
              "      <td>0.003665</td>\n",
              "      <td>0.974767</td>\n",
              "      <td>0.999733</td>\n",
              "    </tr>\n",
              "  </tbody>\n",
              "</table>\n",
              "</div>\n",
              "      <button class=\"colab-df-convert\" onclick=\"convertToInteractive('df-4fb11c61-4999-4ecf-8894-2e0cb0b09f8f')\"\n",
              "              title=\"Convert this dataframe to an interactive table.\"\n",
              "              style=\"display:none;\">\n",
              "        \n",
              "  <svg xmlns=\"http://www.w3.org/2000/svg\" height=\"24px\"viewBox=\"0 0 24 24\"\n",
              "       width=\"24px\">\n",
              "    <path d=\"M0 0h24v24H0V0z\" fill=\"none\"/>\n",
              "    <path d=\"M18.56 5.44l.94 2.06.94-2.06 2.06-.94-2.06-.94-.94-2.06-.94 2.06-2.06.94zm-11 1L8.5 8.5l.94-2.06 2.06-.94-2.06-.94L8.5 2.5l-.94 2.06-2.06.94zm10 10l.94 2.06.94-2.06 2.06-.94-2.06-.94-.94-2.06-.94 2.06-2.06.94z\"/><path d=\"M17.41 7.96l-1.37-1.37c-.4-.4-.92-.59-1.43-.59-.52 0-1.04.2-1.43.59L10.3 9.45l-7.72 7.72c-.78.78-.78 2.05 0 2.83L4 21.41c.39.39.9.59 1.41.59.51 0 1.02-.2 1.41-.59l7.78-7.78 2.81-2.81c.8-.78.8-2.07 0-2.86zM5.41 20L4 18.59l7.72-7.72 1.47 1.35L5.41 20z\"/>\n",
              "  </svg>\n",
              "      </button>\n",
              "      \n",
              "  <style>\n",
              "    .colab-df-container {\n",
              "      display:flex;\n",
              "      flex-wrap:wrap;\n",
              "      gap: 12px;\n",
              "    }\n",
              "\n",
              "    .colab-df-convert {\n",
              "      background-color: #E8F0FE;\n",
              "      border: none;\n",
              "      border-radius: 50%;\n",
              "      cursor: pointer;\n",
              "      display: none;\n",
              "      fill: #1967D2;\n",
              "      height: 32px;\n",
              "      padding: 0 0 0 0;\n",
              "      width: 32px;\n",
              "    }\n",
              "\n",
              "    .colab-df-convert:hover {\n",
              "      background-color: #E2EBFA;\n",
              "      box-shadow: 0px 1px 2px rgba(60, 64, 67, 0.3), 0px 1px 3px 1px rgba(60, 64, 67, 0.15);\n",
              "      fill: #174EA6;\n",
              "    }\n",
              "\n",
              "    [theme=dark] .colab-df-convert {\n",
              "      background-color: #3B4455;\n",
              "      fill: #D2E3FC;\n",
              "    }\n",
              "\n",
              "    [theme=dark] .colab-df-convert:hover {\n",
              "      background-color: #434B5C;\n",
              "      box-shadow: 0px 1px 3px 1px rgba(0, 0, 0, 0.15);\n",
              "      filter: drop-shadow(0px 1px 2px rgba(0, 0, 0, 0.3));\n",
              "      fill: #FFFFFF;\n",
              "    }\n",
              "  </style>\n",
              "\n",
              "      <script>\n",
              "        const buttonEl =\n",
              "          document.querySelector('#df-4fb11c61-4999-4ecf-8894-2e0cb0b09f8f button.colab-df-convert');\n",
              "        buttonEl.style.display =\n",
              "          google.colab.kernel.accessAllowed ? 'block' : 'none';\n",
              "\n",
              "        async function convertToInteractive(key) {\n",
              "          const element = document.querySelector('#df-4fb11c61-4999-4ecf-8894-2e0cb0b09f8f');\n",
              "          const dataTable =\n",
              "            await google.colab.kernel.invokeFunction('convertToInteractive',\n",
              "                                                     [key], {});\n",
              "          if (!dataTable) return;\n",
              "\n",
              "          const docLinkHtml = 'Like what you see? Visit the ' +\n",
              "            '<a target=\"_blank\" href=https://colab.research.google.com/notebooks/data_table.ipynb>data table notebook</a>'\n",
              "            + ' to learn more about interactive tables.';\n",
              "          element.innerHTML = '';\n",
              "          dataTable['output_type'] = 'display_data';\n",
              "          await google.colab.output.renderOutput(dataTable, element);\n",
              "          const docLink = document.createElement('div');\n",
              "          docLink.innerHTML = docLinkHtml;\n",
              "          element.appendChild(docLink);\n",
              "        }\n",
              "      </script>\n",
              "    </div>\n",
              "  </div>\n",
              "  "
            ]
          },
          "metadata": {},
          "execution_count": 7
        }
      ]
    },
    {
      "cell_type": "code",
      "source": [
        "df_dry_ben.isnull().sum()"
      ],
      "metadata": {
        "colab": {
          "base_uri": "https://localhost:8080/"
        },
        "id": "fdZFknuHgRPn",
        "outputId": "1ffdb4c3-81c1-4f51-b07a-c5f82de15ef5"
      },
      "execution_count": null,
      "outputs": [
        {
          "output_type": "execute_result",
          "data": {
            "text/plain": [
              "Area               0\n",
              "Perimeter          0\n",
              "MajorAxisLength    0\n",
              "MinorAxisLength    0\n",
              "AspectRation       0\n",
              "Eccentricity       0\n",
              "ConvexArea         0\n",
              "EquivDiameter      0\n",
              "Extent             0\n",
              "Solidity           0\n",
              "roundness          0\n",
              "Compactness        0\n",
              "ShapeFactor1       0\n",
              "ShapeFactor2       0\n",
              "ShapeFactor3       0\n",
              "ShapeFactor4       0\n",
              "Class              0\n",
              "dtype: int64"
            ]
          },
          "metadata": {},
          "execution_count": 8
        }
      ]
    },
    {
      "cell_type": "markdown",
      "source": [
        "#¿Existen datos nulos?\n"
      ],
      "metadata": {
        "id": "awAcqUA3gSI3"
      }
    },
    {
      "cell_type": "markdown",
      "source": [
        "#Qué variables tienen datos outliers?"
      ],
      "metadata": {
        "id": "7lrlDIFBjlkg"
      }
    },
    {
      "cell_type": "code",
      "source": [
        "#AREA\n",
        "plt.figure(figsize=(10,7))\n",
        "sns.boxplot(data = df_dry_ben, y = 'Area')"
      ],
      "metadata": {
        "colab": {
          "base_uri": "https://localhost:8080/"
        },
        "id": "ksTahOYPjoNZ",
        "outputId": "e51ba15d-da1b-4167-dbf8-3f85a1631923"
      },
      "execution_count": null,
      "outputs": [
        {
          "output_type": "execute_result",
          "data": {
            "text/plain": [
              "<matplotlib.axes._subplots.AxesSubplot at 0x7f9574d75490>"
            ]
          },
          "metadata": {},
          "execution_count": 9
        },
        {
          "output_type": "display_data",
          "data": {
            "text/plain": [
              "<Figure size 720x504 with 1 Axes>"
            ],
            "image/png": "[encoded data removed]"
          },
          "metadata": {}
        }
      ]
    },
    {
      "cell_type": "code",
      "source": [
        "#MajorAxisLength\n",
        "plt.figure(figsize=(10,7))\n",
        "sns.boxplot(data = df_dry_ben, y = 'MajorAxisLength')"
      ],
      "metadata": {
        "colab": {
          "base_uri": "https://localhost:8080/"
        },
        "id": "IWJkyM-_kEMs",
        "outputId": "99e7dbfe-11b7-4087-b54c-f0dbd3a5b881"
      },
      "execution_count": null,
      "outputs": [
        {
          "output_type": "execute_result",
          "data": {
            "text/plain": [
              "<matplotlib.axes._subplots.AxesSubplot at 0x7f957359ef10>"
            ]
          },
          "metadata": {},
          "execution_count": 10
        },
        {
          "output_type": "display_data",
          "data": {
            "text/plain": [
              "<Figure size 720x504 with 1 Axes>"
            ],
            "image/png": "[encoded data removed]"
          },
          "metadata": {}
        }
      ]
    },
    {
      "cell_type": "code",
      "source": [
        "#MinorAxisLength\n",
        "plt.figure(figsize=(10,7))\n",
        "sns.boxplot(data = df_dry_ben, y = 'MinorAxisLength')"
      ],
      "metadata": {
        "colab": {
          "base_uri": "https://localhost:8080/"
        },
        "id": "teXqRqi6mfGI",
        "outputId": "af6166af-3b2c-46fc-e72f-0009430812c7"
      },
      "execution_count": null,
      "outputs": [
        {
          "output_type": "execute_result",
          "data": {
            "text/plain": [
              "<matplotlib.axes._subplots.AxesSubplot at 0x7f9572b8ec50>"
            ]
          },
          "metadata": {},
          "execution_count": 11
        },
        {
          "output_type": "display_data",
          "data": {
            "text/plain": [
              "<Figure size 720x504 with 1 Axes>"
            ],
            "image/png": "[encoded data removed]"
          },
          "metadata": {}
        }
      ]
    },
    {
      "cell_type": "code",
      "source": [
        "#AspectRation       \n",
        "plt.figure(figsize=(10,7))\n",
        "sns.boxplot(data = df_dry_ben, y = 'AspectRation')"
      ],
      "metadata": {
        "colab": {
          "base_uri": "https://localhost:8080/"
        },
        "id": "s25UftG3m6KK",
        "outputId": "1b7887a9-cc97-4f9a-dcf5-34f276336ccb"
      },
      "execution_count": null,
      "outputs": [
        {
          "output_type": "execute_result",
          "data": {
            "text/plain": [
              "<matplotlib.axes._subplots.AxesSubplot at 0x7f957354d990>"
            ]
          },
          "metadata": {},
          "execution_count": 12
        },
        {
          "output_type": "display_data",
          "data": {
            "text/plain": [
              "<Figure size 720x504 with 1 Axes>"
            ],
            "image/png": "[encoded data removed]"
          },
          "metadata": {}
        }
      ]
    },
    {
      "cell_type": "code",
      "source": [
        "#Eccentricity     \n",
        "plt.figure(figsize=(10,7))\n",
        "sns.boxplot(data = df_dry_ben, y = 'Eccentricity')"
      ],
      "metadata": {
        "colab": {
          "base_uri": "https://localhost:8080/"
        },
        "id": "ItRvpxU6ndEp",
        "outputId": "b00c5985-8ad2-4502-d3db-620712bfde2a"
      },
      "execution_count": null,
      "outputs": [
        {
          "output_type": "execute_result",
          "data": {
            "text/plain": [
              "<matplotlib.axes._subplots.AxesSubplot at 0x7f9572acdf90>"
            ]
          },
          "metadata": {},
          "execution_count": 13
        },
        {
          "output_type": "display_data",
          "data": {
            "text/plain": [
              "<Figure size 720x504 with 1 Axes>"
            ],
            "image/png": "[encoded data removed]"
          },
          "metadata": {}
        }
      ]
    },
    {
      "cell_type": "code",
      "source": [
        "#ConvexArea     \n",
        "plt.figure(figsize=(10,7))\n",
        "sns.boxplot(data = df_dry_ben, y = 'ConvexArea')"
      ],
      "metadata": {
        "colab": {
          "base_uri": "https://localhost:8080/"
        },
        "id": "zj3ed2sooM6-",
        "outputId": "275b22b7-60dd-4236-abc3-285fca41d5f9"
      },
      "execution_count": null,
      "outputs": [
        {
          "output_type": "execute_result",
          "data": {
            "text/plain": [
              "<matplotlib.axes._subplots.AxesSubplot at 0x7f95729bcd50>"
            ]
          },
          "metadata": {},
          "execution_count": 14
        },
        {
          "output_type": "display_data",
          "data": {
            "text/plain": [
              "<Figure size 720x504 with 1 Axes>"
            ],
            "image/png": "[encoded data removed]"
          },
          "metadata": {}
        }
      ]
    },
    {
      "cell_type": "code",
      "source": [
        "#EquivDiameter     \n",
        "plt.figure(figsize=(10,7))\n",
        "sns.boxplot(data = df_dry_ben, y = 'EquivDiameter')"
      ],
      "metadata": {
        "colab": {
          "base_uri": "https://localhost:8080/"
        },
        "id": "UqpsOJQgoQU3",
        "outputId": "06a063c8-a090-42eb-ffff-470bd2e56825"
      },
      "execution_count": null,
      "outputs": [
        {
          "output_type": "execute_result",
          "data": {
            "text/plain": [
              "<matplotlib.axes._subplots.AxesSubplot at 0x7f95732452d0>"
            ]
          },
          "metadata": {},
          "execution_count": 15
        },
        {
          "output_type": "display_data",
          "data": {
            "text/plain": [
              "<Figure size 720x504 with 1 Axes>"
            ],
            "image/png": "[encoded data removed]"
          },
          "metadata": {}
        }
      ]
    },
    {
      "cell_type": "code",
      "source": [
        "#Extent     \n",
        "plt.figure(figsize=(10,7))\n",
        "sns.boxplot(data = df_dry_ben, y = 'Extent')"
      ],
      "metadata": {
        "colab": {
          "base_uri": "https://localhost:8080/"
        },
        "id": "GKjQx-_MoU2t",
        "outputId": "d47c4704-91e0-4d9f-bc45-8bfdfc0993cf"
      },
      "execution_count": null,
      "outputs": [
        {
          "output_type": "execute_result",
          "data": {
            "text/plain": [
              "<matplotlib.axes._subplots.AxesSubplot at 0x7f9572f69fd0>"
            ]
          },
          "metadata": {},
          "execution_count": 16
        },
        {
          "output_type": "display_data",
          "data": {
            "text/plain": [
              "<Figure size 720x504 with 1 Axes>"
            ],
            "image/png": "[encoded data removed]"
          },
          "metadata": {}
        }
      ]
    },
    {
      "cell_type": "code",
      "source": [
        "#Solidity     \n",
        "plt.figure(figsize=(10,7))\n",
        "sns.boxplot(data = df_dry_ben, y = 'Solidity')"
      ],
      "metadata": {
        "colab": {
          "base_uri": "https://localhost:8080/"
        },
        "id": "kv_PEQNDofY4",
        "outputId": "e495bf22-2aa9-45f6-8c42-a3084769c561"
      },
      "execution_count": null,
      "outputs": [
        {
          "output_type": "execute_result",
          "data": {
            "text/plain": [
              "<matplotlib.axes._subplots.AxesSubplot at 0x7f957341e850>"
            ]
          },
          "metadata": {},
          "execution_count": 17
        },
        {
          "output_type": "display_data",
          "data": {
            "text/plain": [
              "<Figure size 720x504 with 1 Axes>"
            ],
            "image/png": "[encoded data removed]"
          },
          "metadata": {}
        }
      ]
    },
    {
      "cell_type": "code",
      "source": [
        "#roundness   \n",
        "plt.figure(figsize=(10,7))\n",
        "sns.boxplot(data = df_dry_ben, y = 'roundness')"
      ],
      "metadata": {
        "colab": {
          "base_uri": "https://localhost:8080/"
        },
        "id": "nwNxJThdozYO",
        "outputId": "e9b25565-5b55-428f-844a-0000489f654e"
      },
      "execution_count": null,
      "outputs": [
        {
          "output_type": "execute_result",
          "data": {
            "text/plain": [
              "<matplotlib.axes._subplots.AxesSubplot at 0x7f957342a1d0>"
            ]
          },
          "metadata": {},
          "execution_count": 18
        },
        {
          "output_type": "display_data",
          "data": {
            "text/plain": [
              "<Figure size 720x504 with 1 Axes>"
            ],
            "image/png": "[encoded data removed]"
          },
          "metadata": {}
        }
      ]
    },
    {
      "cell_type": "code",
      "source": [
        "#Compactness   \n",
        "plt.figure(figsize=(10,7))\n",
        "sns.boxplot(data = df_dry_ben, y = 'Compactness')"
      ],
      "metadata": {
        "colab": {
          "base_uri": "https://localhost:8080/"
        },
        "id": "z4oBj3XCo2Rr",
        "outputId": "82b5f0af-7074-4f99-dff6-adc3848f8468"
      },
      "execution_count": null,
      "outputs": [
        {
          "output_type": "execute_result",
          "data": {
            "text/plain": [
              "<matplotlib.axes._subplots.AxesSubplot at 0x7f95731a7f90>"
            ]
          },
          "metadata": {},
          "execution_count": 19
        },
        {
          "output_type": "display_data",
          "data": {
            "text/plain": [
              "<Figure size 720x504 with 1 Axes>"
            ],
            "image/png": "[encoded data removed]"
          },
          "metadata": {}
        }
      ]
    },
    {
      "cell_type": "code",
      "source": [
        "#ShapeFactor1   \n",
        "plt.figure(figsize=(10,7))\n",
        "sns.boxplot(data = df_dry_ben, y = 'ShapeFactor1')"
      ],
      "metadata": {
        "colab": {
          "base_uri": "https://localhost:8080/"
        },
        "id": "TV7sJ-VNo-tu",
        "outputId": "9f72f856-76d7-4c82-f225-f24c8b0ffbc1"
      },
      "execution_count": null,
      "outputs": [
        {
          "output_type": "execute_result",
          "data": {
            "text/plain": [
              "<matplotlib.axes._subplots.AxesSubplot at 0x7f957306d750>"
            ]
          },
          "metadata": {},
          "execution_count": 20
        },
        {
          "output_type": "display_data",
          "data": {
            "text/plain": [
              "<Figure size 720x504 with 1 Axes>"
            ],
            "image/png": "[encoded data removed]"
          },
          "metadata": {}
        }
      ]
    },
    {
      "cell_type": "code",
      "source": [
        "#ShapeFactor2   \n",
        "plt.figure(figsize=(10,7))\n",
        "sns.boxplot(data = df_dry_ben, y = 'ShapeFactor2')"
      ],
      "metadata": {
        "colab": {
          "base_uri": "https://localhost:8080/"
        },
        "id": "E1b6v4kupDXT",
        "outputId": "ced83948-2e3f-482e-915d-c02770a6a3c2"
      },
      "execution_count": null,
      "outputs": [
        {
          "output_type": "execute_result",
          "data": {
            "text/plain": [
              "<matplotlib.axes._subplots.AxesSubplot at 0x7f9572f16510>"
            ]
          },
          "metadata": {},
          "execution_count": 21
        },
        {
          "output_type": "display_data",
          "data": {
            "text/plain": [
              "<Figure size 720x504 with 1 Axes>"
            ],
            "image/png": "[encoded data removed]"
          },
          "metadata": {}
        }
      ]
    },
    {
      "cell_type": "code",
      "source": [
        "#ShapeFactor3\n",
        "plt.figure(figsize=(10,7))\n",
        "sns.boxplot(data = df_dry_ben, y = 'ShapeFactor3')"
      ],
      "metadata": {
        "colab": {
          "base_uri": "https://localhost:8080/"
        },
        "id": "yaOVCDpmpDdC",
        "outputId": "c7c4d307-65e0-4a39-af19-733e739e2a9c"
      },
      "execution_count": null,
      "outputs": [
        {
          "output_type": "execute_result",
          "data": {
            "text/plain": [
              "<matplotlib.axes._subplots.AxesSubplot at 0x7f9572c8c6d0>"
            ]
          },
          "metadata": {},
          "execution_count": 22
        },
        {
          "output_type": "display_data",
          "data": {
            "text/plain": [
              "<Figure size 720x504 with 1 Axes>"
            ],
            "image/png": "[encoded data removed]"
          },
          "metadata": {}
        }
      ]
    },
    {
      "cell_type": "code",
      "source": [
        "#ShapeFactor4\n",
        "plt.figure(figsize=(10,7))\n",
        "sns.boxplot(data = df_dry_ben, y = 'ShapeFactor4')"
      ],
      "metadata": {
        "colab": {
          "base_uri": "https://localhost:8080/"
        },
        "id": "K4CZpSwZpEKE",
        "outputId": "b0c64e21-415a-4cb4-b9ec-26725bc31715"
      },
      "execution_count": null,
      "outputs": [
        {
          "output_type": "execute_result",
          "data": {
            "text/plain": [
              "<matplotlib.axes._subplots.AxesSubplot at 0x7f9572f17590>"
            ]
          },
          "metadata": {},
          "execution_count": 23
        },
        {
          "output_type": "display_data",
          "data": {
            "text/plain": [
              "<Figure size 720x504 with 1 Axes>"
            ],
            "image/png": "[encoded data removed]"
          },
          "metadata": {}
        }
      ]
    },
    {
      "cell_type": "code",
      "source": [
        "df_dry_ben.describe().columns"
      ],
      "metadata": {
        "colab": {
          "base_uri": "https://localhost:8080/"
        },
        "id": "gq--bM1nk-hR",
        "outputId": "63cb941a-8e4d-474b-c651-7119c57b3bb2"
      },
      "execution_count": null,
      "outputs": [
        {
          "output_type": "execute_result",
          "data": {
            "text/plain": [
              "Index(['Area', 'Perimeter', 'MajorAxisLength', 'MinorAxisLength',\n",
              "       'AspectRation', 'Eccentricity', 'ConvexArea', 'EquivDiameter', 'Extent',\n",
              "       'Solidity', 'roundness', 'Compactness', 'ShapeFactor1', 'ShapeFactor2',\n",
              "       'ShapeFactor3', 'ShapeFactor4'],\n",
              "      dtype='object')"
            ]
          },
          "metadata": {},
          "execution_count": 24
        }
      ]
    },
    {
      "cell_type": "code",
      "source": [
        "plt.figure(figsize=(15,9))\n",
        "\n",
        "#Correlacion entre las variables\n",
        "sns.heatmap(df_dry_ben.corr() , annot = True , fmt = '.1g' , vmin = -1 , vmax = 1 , cmap = 'coolwarm' ,\n",
        "            linewidths=3, linecolor='black')"
      ],
      "metadata": {
        "colab": {
          "base_uri": "https://localhost:8080/"
        },
        "id": "bASx59FkmneE",
        "outputId": "fd9d110a-968a-4f71-8398-2720d8fec880"
      },
      "execution_count": null,
      "outputs": [
        {
          "output_type": "execute_result",
          "data": {
            "text/plain": [
              "<matplotlib.axes._subplots.AxesSubplot at 0x7f9572b73d50>"
            ]
          },
          "metadata": {},
          "execution_count": 25
        },
        {
          "output_type": "display_data",
          "data": {
            "text/plain": [
              "<Figure size 1080x648 with 2 Axes>"
            ],
            "image/png": "[encoded data removed]"
          },
          "metadata": {}
        }
      ]
    },
    {
      "cell_type": "markdown",
      "source": [
        "#¿Existen variables que afectan a la variable objetivo? "
      ],
      "metadata": {
        "id": "9N6pUZeJnlHV"
      }
    },
    {
      "cell_type": "code",
      "source": [
        "df_dry_ben['Class'].value_counts()"
      ],
      "metadata": {
        "colab": {
          "base_uri": "https://localhost:8080/"
        },
        "id": "7igraUWQXGQW",
        "outputId": "2ecf7608-1bd3-4357-b678-4715aa9f2725"
      },
      "execution_count": null,
      "outputs": [
        {
          "output_type": "execute_result",
          "data": {
            "text/plain": [
              "DERMASON    3546\n",
              "SIRA        2636\n",
              "SEKER       2027\n",
              "HOROZ       1928\n",
              "CALI        1630\n",
              "BARBUNYA    1322\n",
              "BOMBAY       522\n",
              "Name: Class, dtype: int64"
            ]
          },
          "metadata": {},
          "execution_count": 26
        }
      ]
    },
    {
      "cell_type": "markdown",
      "source": [
        "#PREPROCESAMIENTO DE DATOS"
      ],
      "metadata": {
        "id": "Quu7RNiNxHVb"
      }
    },
    {
      "cell_type": "code",
      "source": [
        "df_experiment = df_dry_ben.copy()\n",
        "\n",
        "df_experiment2 = df_dry_ben.copy()"
      ],
      "metadata": {
        "id": "4jT52aCUxM44"
      },
      "execution_count": null,
      "outputs": []
    },
    {
      "cell_type": "code",
      "source": [
        "df_experiment.columns"
      ],
      "metadata": {
        "colab": {
          "base_uri": "https://localhost:8080/"
        },
        "id": "C5FrKzNEyGYF",
        "outputId": "d9f647a3-cc80-4368-fdd3-b9aa6710f5d9"
      },
      "execution_count": null,
      "outputs": [
        {
          "output_type": "execute_result",
          "data": {
            "text/plain": [
              "Index(['Area', 'Perimeter', 'MajorAxisLength', 'MinorAxisLength',\n",
              "       'AspectRation', 'Eccentricity', 'ConvexArea', 'EquivDiameter', 'Extent',\n",
              "       'Solidity', 'roundness', 'Compactness', 'ShapeFactor1', 'ShapeFactor2',\n",
              "       'ShapeFactor3', 'ShapeFactor4', 'Class'],\n",
              "      dtype='object')"
            ]
          },
          "metadata": {},
          "execution_count": 29
        }
      ]
    },
    {
      "cell_type": "code",
      "source": [
        "#Estandarizar df_experiment\n",
        "from sklearn.preprocessing import StandardScaler\n",
        "\n",
        "standar_scaler = StandardScaler()\n",
        "\n",
        "val = ['Area', 'Perimeter', 'MajorAxisLength', 'MinorAxisLength',\n",
        "       'AspectRation', 'Eccentricity', 'ConvexArea', 'EquivDiameter', 'Extent',\n",
        "       'Solidity', 'roundness', 'Compactness', 'ShapeFactor1', 'ShapeFactor2',\n",
        "       'ShapeFactor3', 'ShapeFactor4']\n",
        "\n",
        "df_experiment[val] = standar_scaler.fit_transform(df_experiment[val])"
      ],
      "metadata": {
        "id": "DK6QI4eIxuhK"
      },
      "execution_count": null,
      "outputs": []
    },
    {
      "cell_type": "code",
      "source": [
        "df_experiment"
      ],
      "metadata": {
        "colab": {
          "base_uri": "https://localhost:8080/",
          "height": 488
        },
        "id": "sr0UHz2ny8Fd",
        "outputId": "d586c802-bd9c-4478-93ce-3e10a9d88375"
      },
      "execution_count": null,
      "outputs": [
        {
          "output_type": "execute_result",
          "data": {
            "text/plain": [
              "           Area  Perimeter  MajorAxisLength  MinorAxisLength  AspectRation  \\\n",
              "0     -0.840749  -1.143319        -1.306598        -0.631153     -1.565053   \n",
              "1     -0.829188  -1.013924        -1.395911        -0.434445     -1.969784   \n",
              "2     -0.807157  -1.078829        -1.252357        -0.585735     -1.514291   \n",
              "3     -0.785741  -0.977215        -1.278825        -0.439290     -1.741618   \n",
              "4     -0.781239  -1.097384        -1.380471        -0.266663     -2.117993   \n",
              "...         ...        ...              ...              ...           ...   \n",
              "13606 -0.373471  -0.446083        -0.366669        -0.363055     -0.123703   \n",
              "13607 -0.373334  -0.456336        -0.450053        -0.257015     -0.432979   \n",
              "13608 -0.372038  -0.447833        -0.450478        -0.246456     -0.448618   \n",
              "13609 -0.371765  -0.427029        -0.428974        -0.266742     -0.380735   \n",
              "13610 -0.371356  -0.387557        -0.291736        -0.446224      0.148374   \n",
              "\n",
              "       Eccentricity  ConvexArea  EquivDiameter    Extent  Solidity  roundness  \\\n",
              "0         -2.185720   -0.841451      -1.063341  0.289087  0.367613   1.423867   \n",
              "1         -3.686040   -0.826102      -1.044217  0.697477 -0.462907   0.231054   \n",
              "2         -2.045336   -0.808704      -1.008084  0.578195  0.518417   1.252865   \n",
              "3         -2.742211   -0.773975      -0.973337  0.671260 -2.241767   0.515049   \n",
              "4         -4.535028   -0.784286      -0.966080  0.476020  0.804772   1.874992   \n",
              "...             ...         ...            ...       ...       ...        ...   \n",
              "13606      0.153343   -0.378191      -0.364148 -0.716284  0.684173   0.727872   \n",
              "13607     -0.165141   -0.378662      -0.363962  1.022933  0.774384   0.818807   \n",
              "13608     -0.182940   -0.376143      -0.362197 -0.403392  0.591370   0.758468   \n",
              "13609     -0.106960   -0.372851      -0.361825 -0.903414  0.143717   0.581753   \n",
              "13610      0.389116   -0.375101      -0.361268  0.799227  0.537539   0.253681   \n",
              "\n",
              "       Compactness  ShapeFactor1  ShapeFactor2  ShapeFactor3  ShapeFactor4  \\\n",
              "0         1.839116      0.680786      2.402173      1.925723      0.838371   \n",
              "1         2.495449      0.367967      3.100893      2.689702      0.771138   \n",
              "2         1.764843      0.603129      2.235091      1.841356      0.916755   \n",
              "3         2.081715      0.401718      2.515075      2.204250     -0.197985   \n",
              "4         2.765330      0.118268      3.270983      3.013462      0.939640   \n",
              "...            ...           ...           ...           ...           ...   \n",
              "13606     0.032433      0.261425      0.055630     -0.006086      0.760813   \n",
              "13607     0.362794      0.110384      0.285117      0.328393      0.722659   \n",
              "13608     0.370533      0.104269      0.289204      0.336328      0.390251   \n",
              "13609     0.285098      0.141906      0.228375      0.248973      0.036440   \n",
              "13610    -0.240904      0.387512     -0.127776     -0.276481      0.713719   \n",
              "\n",
              "          Class  \n",
              "0         SEKER  \n",
              "1         SEKER  \n",
              "2         SEKER  \n",
              "3         SEKER  \n",
              "4         SEKER  \n",
              "...         ...  \n",
              "13606  DERMASON  \n",
              "13607  DERMASON  \n",
              "13608  DERMASON  \n",
              "13609  DERMASON  \n",
              "13610  DERMASON  \n",
              "\n",
              "[13611 rows x 17 columns]"
            ],
            "text/html": [
              "\n",
              "  <div id=\"df-10692862-a9a5-4e0b-9059-49b3998a05cb\">\n",
              "    <div class=\"colab-df-container\">\n",
              "      <div>\n",
              "<style scoped>\n",
              "    .dataframe tbody tr th:only-of-type {\n",
              "        vertical-align: middle;\n",
              "    }\n",
              "\n",
              "    .dataframe tbody tr th {\n",
              "        vertical-align: top;\n",
              "    }\n",
              "\n",
              "    .dataframe thead th {\n",
              "        text-align: right;\n",
              "    }\n",
              "</style>\n",
              "<table border=\"1\" class=\"dataframe\">\n",
              "  <thead>\n",
              "    <tr style=\"text-align: right;\">\n",
              "      <th></th>\n",
              "      <th>Area</th>\n",
              "      <th>Perimeter</th>\n",
              "      <th>MajorAxisLength</th>\n",
              "      <th>MinorAxisLength</th>\n",
              "      <th>AspectRation</th>\n",
              "      <th>Eccentricity</th>\n",
              "      <th>ConvexArea</th>\n",
              "      <th>EquivDiameter</th>\n",
              "      <th>Extent</th>\n",
              "      <th>Solidity</th>\n",
              "      <th>roundness</th>\n",
              "      <th>Compactness</th>\n",
              "      <th>ShapeFactor1</th>\n",
              "      <th>ShapeFactor2</th>\n",
              "      <th>ShapeFactor3</th>\n",
              "      <th>ShapeFactor4</th>\n",
              "      <th>Class</th>\n",
              "    </tr>\n",
              "  </thead>\n",
              "  <tbody>\n",
              "    <tr>\n",
              "      <th>0</th>\n",
              "      <td>-0.840749</td>\n",
              "      <td>-1.143319</td>\n",
              "      <td>-1.306598</td>\n",
              "      <td>-0.631153</td>\n",
              "      <td>-1.565053</td>\n",
              "      <td>-2.185720</td>\n",
              "      <td>-0.841451</td>\n",
              "      <td>-1.063341</td>\n",
              "      <td>0.289087</td>\n",
              "      <td>0.367613</td>\n",
              "      <td>1.423867</td>\n",
              "      <td>1.839116</td>\n",
              "      <td>0.680786</td>\n",
              "      <td>2.402173</td>\n",
              "      <td>1.925723</td>\n",
              "      <td>0.838371</td>\n",
              "      <td>SEKER</td>\n",
              "    </tr>\n",
              "    <tr>\n",
              "      <th>1</th>\n",
              "      <td>-0.829188</td>\n",
              "      <td>-1.013924</td>\n",
              "      <td>-1.395911</td>\n",
              "      <td>-0.434445</td>\n",
              "      <td>-1.969784</td>\n",
              "      <td>-3.686040</td>\n",
              "      <td>-0.826102</td>\n",
              "      <td>-1.044217</td>\n",
              "      <td>0.697477</td>\n",
              "      <td>-0.462907</td>\n",
              "      <td>0.231054</td>\n",
              "      <td>2.495449</td>\n",
              "      <td>0.367967</td>\n",
              "      <td>3.100893</td>\n",
              "      <td>2.689702</td>\n",
              "      <td>0.771138</td>\n",
              "      <td>SEKER</td>\n",
              "    </tr>\n",
              "    <tr>\n",
              "      <th>2</th>\n",
              "      <td>-0.807157</td>\n",
              "      <td>-1.078829</td>\n",
              "      <td>-1.252357</td>\n",
              "      <td>-0.585735</td>\n",
              "      <td>-1.514291</td>\n",
              "      <td>-2.045336</td>\n",
              "      <td>-0.808704</td>\n",
              "      <td>-1.008084</td>\n",
              "      <td>0.578195</td>\n",
              "      <td>0.518417</td>\n",
              "      <td>1.252865</td>\n",
              "      <td>1.764843</td>\n",
              "      <td>0.603129</td>\n",
              "      <td>2.235091</td>\n",
              "      <td>1.841356</td>\n",
              "      <td>0.916755</td>\n",
              "      <td>SEKER</td>\n",
              "    </tr>\n",
              "    <tr>\n",
              "      <th>3</th>\n",
              "      <td>-0.785741</td>\n",
              "      <td>-0.977215</td>\n",
              "      <td>-1.278825</td>\n",
              "      <td>-0.439290</td>\n",
              "      <td>-1.741618</td>\n",
              "      <td>-2.742211</td>\n",
              "      <td>-0.773975</td>\n",
              "      <td>-0.973337</td>\n",
              "      <td>0.671260</td>\n",
              "      <td>-2.241767</td>\n",
              "      <td>0.515049</td>\n",
              "      <td>2.081715</td>\n",
              "      <td>0.401718</td>\n",
              "      <td>2.515075</td>\n",
              "      <td>2.204250</td>\n",
              "      <td>-0.197985</td>\n",
              "      <td>SEKER</td>\n",
              "    </tr>\n",
              "    <tr>\n",
              "      <th>4</th>\n",
              "      <td>-0.781239</td>\n",
              "      <td>-1.097384</td>\n",
              "      <td>-1.380471</td>\n",
              "      <td>-0.266663</td>\n",
              "      <td>-2.117993</td>\n",
              "      <td>-4.535028</td>\n",
              "      <td>-0.784286</td>\n",
              "      <td>-0.966080</td>\n",
              "      <td>0.476020</td>\n",
              "      <td>0.804772</td>\n",
              "      <td>1.874992</td>\n",
              "      <td>2.765330</td>\n",
              "      <td>0.118268</td>\n",
              "      <td>3.270983</td>\n",
              "      <td>3.013462</td>\n",
              "      <td>0.939640</td>\n",
              "      <td>SEKER</td>\n",
              "    </tr>\n",
              "    <tr>\n",
              "      <th>...</th>\n",
              "      <td>...</td>\n",
              "      <td>...</td>\n",
              "      <td>...</td>\n",
              "      <td>...</td>\n",
              "      <td>...</td>\n",
              "      <td>...</td>\n",
              "      <td>...</td>\n",
              "      <td>...</td>\n",
              "      <td>...</td>\n",
              "      <td>...</td>\n",
              "      <td>...</td>\n",
              "      <td>...</td>\n",
              "      <td>...</td>\n",
              "      <td>...</td>\n",
              "      <td>...</td>\n",
              "      <td>...</td>\n",
              "      <td>...</td>\n",
              "    </tr>\n",
              "    <tr>\n",
              "      <th>13606</th>\n",
              "      <td>-0.373471</td>\n",
              "      <td>-0.446083</td>\n",
              "      <td>-0.366669</td>\n",
              "      <td>-0.363055</td>\n",
              "      <td>-0.123703</td>\n",
              "      <td>0.153343</td>\n",
              "      <td>-0.378191</td>\n",
              "      <td>-0.364148</td>\n",
              "      <td>-0.716284</td>\n",
              "      <td>0.684173</td>\n",
              "      <td>0.727872</td>\n",
              "      <td>0.032433</td>\n",
              "      <td>0.261425</td>\n",
              "      <td>0.055630</td>\n",
              "      <td>-0.006086</td>\n",
              "      <td>0.760813</td>\n",
              "      <td>DERMASON</td>\n",
              "    </tr>\n",
              "    <tr>\n",
              "      <th>13607</th>\n",
              "      <td>-0.373334</td>\n",
              "      <td>-0.456336</td>\n",
              "      <td>-0.450053</td>\n",
              "      <td>-0.257015</td>\n",
              "      <td>-0.432979</td>\n",
              "      <td>-0.165141</td>\n",
              "      <td>-0.378662</td>\n",
              "      <td>-0.363962</td>\n",
              "      <td>1.022933</td>\n",
              "      <td>0.774384</td>\n",
              "      <td>0.818807</td>\n",
              "      <td>0.362794</td>\n",
              "      <td>0.110384</td>\n",
              "      <td>0.285117</td>\n",
              "      <td>0.328393</td>\n",
              "      <td>0.722659</td>\n",
              "      <td>DERMASON</td>\n",
              "    </tr>\n",
              "    <tr>\n",
              "      <th>13608</th>\n",
              "      <td>-0.372038</td>\n",
              "      <td>-0.447833</td>\n",
              "      <td>-0.450478</td>\n",
              "      <td>-0.246456</td>\n",
              "      <td>-0.448618</td>\n",
              "      <td>-0.182940</td>\n",
              "      <td>-0.376143</td>\n",
              "      <td>-0.362197</td>\n",
              "      <td>-0.403392</td>\n",
              "      <td>0.591370</td>\n",
              "      <td>0.758468</td>\n",
              "      <td>0.370533</td>\n",
              "      <td>0.104269</td>\n",
              "      <td>0.289204</td>\n",
              "      <td>0.336328</td>\n",
              "      <td>0.390251</td>\n",
              "      <td>DERMASON</td>\n",
              "    </tr>\n",
              "    <tr>\n",
              "      <th>13609</th>\n",
              "      <td>-0.371765</td>\n",
              "      <td>-0.427029</td>\n",
              "      <td>-0.428974</td>\n",
              "      <td>-0.266742</td>\n",
              "      <td>-0.380735</td>\n",
              "      <td>-0.106960</td>\n",
              "      <td>-0.372851</td>\n",
              "      <td>-0.361825</td>\n",
              "      <td>-0.903414</td>\n",
              "      <td>0.143717</td>\n",
              "      <td>0.581753</td>\n",
              "      <td>0.285098</td>\n",
              "      <td>0.141906</td>\n",
              "      <td>0.228375</td>\n",
              "      <td>0.248973</td>\n",
              "      <td>0.036440</td>\n",
              "      <td>DERMASON</td>\n",
              "    </tr>\n",
              "    <tr>\n",
              "      <th>13610</th>\n",
              "      <td>-0.371356</td>\n",
              "      <td>-0.387557</td>\n",
              "      <td>-0.291736</td>\n",
              "      <td>-0.446224</td>\n",
              "      <td>0.148374</td>\n",
              "      <td>0.389116</td>\n",
              "      <td>-0.375101</td>\n",
              "      <td>-0.361268</td>\n",
              "      <td>0.799227</td>\n",
              "      <td>0.537539</td>\n",
              "      <td>0.253681</td>\n",
              "      <td>-0.240904</td>\n",
              "      <td>0.387512</td>\n",
              "      <td>-0.127776</td>\n",
              "      <td>-0.276481</td>\n",
              "      <td>0.713719</td>\n",
              "      <td>DERMASON</td>\n",
              "    </tr>\n",
              "  </tbody>\n",
              "</table>\n",
              "<p>13611 rows × 17 columns</p>\n",
              "</div>\n",
              "      <button class=\"colab-df-convert\" onclick=\"convertToInteractive('df-10692862-a9a5-4e0b-9059-49b3998a05cb')\"\n",
              "              title=\"Convert this dataframe to an interactive table.\"\n",
              "              style=\"display:none;\">\n",
              "        \n",
              "  <svg xmlns=\"http://www.w3.org/2000/svg\" height=\"24px\"viewBox=\"0 0 24 24\"\n",
              "       width=\"24px\">\n",
              "    <path d=\"M0 0h24v24H0V0z\" fill=\"none\"/>\n",
              "    <path d=\"M18.56 5.44l.94 2.06.94-2.06 2.06-.94-2.06-.94-.94-2.06-.94 2.06-2.06.94zm-11 1L8.5 8.5l.94-2.06 2.06-.94-2.06-.94L8.5 2.5l-.94 2.06-2.06.94zm10 10l.94 2.06.94-2.06 2.06-.94-2.06-.94-.94-2.06-.94 2.06-2.06.94z\"/><path d=\"M17.41 7.96l-1.37-1.37c-.4-.4-.92-.59-1.43-.59-.52 0-1.04.2-1.43.59L10.3 9.45l-7.72 7.72c-.78.78-.78 2.05 0 2.83L4 21.41c.39.39.9.59 1.41.59.51 0 1.02-.2 1.41-.59l7.78-7.78 2.81-2.81c.8-.78.8-2.07 0-2.86zM5.41 20L4 18.59l7.72-7.72 1.47 1.35L5.41 20z\"/>\n",
              "  </svg>\n",
              "      </button>\n",
              "      \n",
              "  <style>\n",
              "    .colab-df-container {\n",
              "      display:flex;\n",
              "      flex-wrap:wrap;\n",
              "      gap: 12px;\n",
              "    }\n",
              "\n",
              "    .colab-df-convert {\n",
              "      background-color: #E8F0FE;\n",
              "      border: none;\n",
              "      border-radius: 50%;\n",
              "      cursor: pointer;\n",
              "      display: none;\n",
              "      fill: #1967D2;\n",
              "      height: 32px;\n",
              "      padding: 0 0 0 0;\n",
              "      width: 32px;\n",
              "    }\n",
              "\n",
              "    .colab-df-convert:hover {\n",
              "      background-color: #E2EBFA;\n",
              "      box-shadow: 0px 1px 2px rgba(60, 64, 67, 0.3), 0px 1px 3px 1px rgba(60, 64, 67, 0.15);\n",
              "      fill: #174EA6;\n",
              "    }\n",
              "\n",
              "    [theme=dark] .colab-df-convert {\n",
              "      background-color: #3B4455;\n",
              "      fill: #D2E3FC;\n",
              "    }\n",
              "\n",
              "    [theme=dark] .colab-df-convert:hover {\n",
              "      background-color: #434B5C;\n",
              "      box-shadow: 0px 1px 3px 1px rgba(0, 0, 0, 0.15);\n",
              "      filter: drop-shadow(0px 1px 2px rgba(0, 0, 0, 0.3));\n",
              "      fill: #FFFFFF;\n",
              "    }\n",
              "  </style>\n",
              "\n",
              "      <script>\n",
              "        const buttonEl =\n",
              "          document.querySelector('#df-10692862-a9a5-4e0b-9059-49b3998a05cb button.colab-df-convert');\n",
              "        buttonEl.style.display =\n",
              "          google.colab.kernel.accessAllowed ? 'block' : 'none';\n",
              "\n",
              "        async function convertToInteractive(key) {\n",
              "          const element = document.querySelector('#df-10692862-a9a5-4e0b-9059-49b3998a05cb');\n",
              "          const dataTable =\n",
              "            await google.colab.kernel.invokeFunction('convertToInteractive',\n",
              "                                                     [key], {});\n",
              "          if (!dataTable) return;\n",
              "\n",
              "          const docLinkHtml = 'Like what you see? Visit the ' +\n",
              "            '<a target=\"_blank\" href=https://colab.research.google.com/notebooks/data_table.ipynb>data table notebook</a>'\n",
              "            + ' to learn more about interactive tables.';\n",
              "          element.innerHTML = '';\n",
              "          dataTable['output_type'] = 'display_data';\n",
              "          await google.colab.output.renderOutput(dataTable, element);\n",
              "          const docLink = document.createElement('div');\n",
              "          docLink.innerHTML = docLinkHtml;\n",
              "          element.appendChild(docLink);\n",
              "        }\n",
              "      </script>\n",
              "    </div>\n",
              "  </div>\n",
              "  "
            ]
          },
          "metadata": {},
          "execution_count": 31
        }
      ]
    },
    {
      "cell_type": "code",
      "source": [
        "#Normalizar\n",
        "from sklearn.preprocessing import MinMaxScaler\n",
        "\n",
        "min_max_scaler = MinMaxScaler()\n",
        "\n",
        "val2 = ['Area', 'Perimeter', 'MajorAxisLength', 'MinorAxisLength',\n",
        "       'AspectRation', 'Eccentricity', 'ConvexArea', 'EquivDiameter', 'Extent',\n",
        "       'Solidity', 'roundness', 'Compactness', 'ShapeFactor1', 'ShapeFactor2',\n",
        "       'ShapeFactor3', 'ShapeFactor4']\n",
        "\n",
        "df_experiment2[val2] = min_max_scaler.fit_transform(df_experiment2[val2])"
      ],
      "metadata": {
        "id": "f8TDX7tny99D"
      },
      "execution_count": null,
      "outputs": []
    },
    {
      "cell_type": "code",
      "source": [
        "df_experiment2"
      ],
      "metadata": {
        "colab": {
          "base_uri": "https://localhost:8080/",
          "height": 488
        },
        "id": "AyvJeYHIzYZX",
        "outputId": "05bb4a1a-5d48-449b-b827-cb8486f2e2c9"
      },
      "execution_count": null,
      "outputs": [
        {
          "output_type": "execute_result",
          "data": {
            "text/plain": [
              "           Area  Perimeter  MajorAxisLength  MinorAxisLength  AspectRation  \\\n",
              "0      0.034053   0.058574         0.044262         0.152142      0.122612   \n",
              "1      0.035500   0.077557         0.030479         0.178337      0.051577   \n",
              "2      0.038259   0.068035         0.052633         0.158190      0.131521   \n",
              "3      0.040940   0.082942         0.048548         0.177691      0.091623   \n",
              "4      0.041504   0.065313         0.032862         0.200679      0.025565   \n",
              "...         ...        ...              ...              ...           ...   \n",
              "13606  0.092559   0.160862         0.189318         0.187843      0.375584   \n",
              "13607  0.092576   0.159358         0.176450         0.201964      0.321303   \n",
              "13608  0.092739   0.160605         0.176384         0.203370      0.318558   \n",
              "13609  0.092773   0.163657         0.179703         0.200669      0.330472   \n",
              "13610  0.092824   0.169448         0.200882         0.176768      0.423337   \n",
              "\n",
              "       Eccentricity  ConvexArea  EquivDiameter    Extent  Solidity  roundness  \\\n",
              "0          0.477797    0.033107       0.070804  0.671024  0.922824   0.934823   \n",
              "1          0.278472    0.034991       0.073577  0.735504  0.871514   0.793138   \n",
              "2          0.496448    0.037126       0.078816  0.716671  0.932141   0.914511   \n",
              "3          0.403864    0.041389       0.083854  0.731365  0.761614   0.826871   \n",
              "4          0.165680    0.040123       0.084906  0.700538  0.949832   0.988408   \n",
              "...             ...         ...            ...       ...       ...        ...   \n",
              "13606      0.788553    0.089967       0.172180  0.512286  0.942381   0.852151   \n",
              "13607      0.746241    0.089910       0.172207  0.786890  0.947954   0.862952   \n",
              "13608      0.743877    0.090219       0.172463  0.561689  0.936648   0.855785   \n",
              "13609      0.753971    0.090623       0.172517  0.482741  0.908991   0.834795   \n",
              "13610      0.819877    0.090347       0.172598  0.751569  0.933322   0.795826   \n",
              "\n",
              "       Compactness  ShapeFactor1  ShapeFactor2  ShapeFactor3  ShapeFactor4  \\\n",
              "0         0.786733      0.593432      0.833049      0.750996      0.980620   \n",
              "1         0.903549      0.547447      0.967315      0.884987      0.974979   \n",
              "2         0.773514      0.582016      0.800942      0.736200      0.987196   \n",
              "3         0.829912      0.552408      0.854744      0.799846      0.893675   \n",
              "4         0.951583      0.510741      1.000000      0.941770      0.989116   \n",
              "...            ...           ...           ...           ...           ...   \n",
              "13606     0.465175      0.531785      0.382135      0.412185      0.974113   \n",
              "13607     0.523974      0.509582      0.426233      0.470848      0.970912   \n",
              "13608     0.525351      0.508683      0.427019      0.472240      0.943025   \n",
              "13609     0.510145      0.514216      0.415330      0.456919      0.913342   \n",
              "13610     0.416526      0.550320      0.346892      0.364762      0.970162   \n",
              "\n",
              "          Class  \n",
              "0         SEKER  \n",
              "1         SEKER  \n",
              "2         SEKER  \n",
              "3         SEKER  \n",
              "4         SEKER  \n",
              "...         ...  \n",
              "13606  DERMASON  \n",
              "13607  DERMASON  \n",
              "13608  DERMASON  \n",
              "13609  DERMASON  \n",
              "13610  DERMASON  \n",
              "\n",
              "[13611 rows x 17 columns]"
            ],
            "text/html": [
              "\n",
              "  <div id=\"df-01f21d94-c7ba-44e6-869c-964477d2f33f\">\n",
              "    <div class=\"colab-df-container\">\n",
              "      <div>\n",
              "<style scoped>\n",
              "    .dataframe tbody tr th:only-of-type {\n",
              "        vertical-align: middle;\n",
              "    }\n",
              "\n",
              "    .dataframe tbody tr th {\n",
              "        vertical-align: top;\n",
              "    }\n",
              "\n",
              "    .dataframe thead th {\n",
              "        text-align: right;\n",
              "    }\n",
              "</style>\n",
              "<table border=\"1\" class=\"dataframe\">\n",
              "  <thead>\n",
              "    <tr style=\"text-align: right;\">\n",
              "      <th></th>\n",
              "      <th>Area</th>\n",
              "      <th>Perimeter</th>\n",
              "      <th>MajorAxisLength</th>\n",
              "      <th>MinorAxisLength</th>\n",
              "      <th>AspectRation</th>\n",
              "      <th>Eccentricity</th>\n",
              "      <th>ConvexArea</th>\n",
              "      <th>EquivDiameter</th>\n",
              "      <th>Extent</th>\n",
              "      <th>Solidity</th>\n",
              "      <th>roundness</th>\n",
              "      <th>Compactness</th>\n",
              "      <th>ShapeFactor1</th>\n",
              "      <th>ShapeFactor2</th>\n",
              "      <th>ShapeFactor3</th>\n",
              "      <th>ShapeFactor4</th>\n",
              "      <th>Class</th>\n",
              "    </tr>\n",
              "  </thead>\n",
              "  <tbody>\n",
              "    <tr>\n",
              "      <th>0</th>\n",
              "      <td>0.034053</td>\n",
              "      <td>0.058574</td>\n",
              "      <td>0.044262</td>\n",
              "      <td>0.152142</td>\n",
              "      <td>0.122612</td>\n",
              "      <td>0.477797</td>\n",
              "      <td>0.033107</td>\n",
              "      <td>0.070804</td>\n",
              "      <td>0.671024</td>\n",
              "      <td>0.922824</td>\n",
              "      <td>0.934823</td>\n",
              "      <td>0.786733</td>\n",
              "      <td>0.593432</td>\n",
              "      <td>0.833049</td>\n",
              "      <td>0.750996</td>\n",
              "      <td>0.980620</td>\n",
              "      <td>SEKER</td>\n",
              "    </tr>\n",
              "    <tr>\n",
              "      <th>1</th>\n",
              "      <td>0.035500</td>\n",
              "      <td>0.077557</td>\n",
              "      <td>0.030479</td>\n",
              "      <td>0.178337</td>\n",
              "      <td>0.051577</td>\n",
              "      <td>0.278472</td>\n",
              "      <td>0.034991</td>\n",
              "      <td>0.073577</td>\n",
              "      <td>0.735504</td>\n",
              "      <td>0.871514</td>\n",
              "      <td>0.793138</td>\n",
              "      <td>0.903549</td>\n",
              "      <td>0.547447</td>\n",
              "      <td>0.967315</td>\n",
              "      <td>0.884987</td>\n",
              "      <td>0.974979</td>\n",
              "      <td>SEKER</td>\n",
              "    </tr>\n",
              "    <tr>\n",
              "      <th>2</th>\n",
              "      <td>0.038259</td>\n",
              "      <td>0.068035</td>\n",
              "      <td>0.052633</td>\n",
              "      <td>0.158190</td>\n",
              "      <td>0.131521</td>\n",
              "      <td>0.496448</td>\n",
              "      <td>0.037126</td>\n",
              "      <td>0.078816</td>\n",
              "      <td>0.716671</td>\n",
              "      <td>0.932141</td>\n",
              "      <td>0.914511</td>\n",
              "      <td>0.773514</td>\n",
              "      <td>0.582016</td>\n",
              "      <td>0.800942</td>\n",
              "      <td>0.736200</td>\n",
              "      <td>0.987196</td>\n",
              "      <td>SEKER</td>\n",
              "    </tr>\n",
              "    <tr>\n",
              "      <th>3</th>\n",
              "      <td>0.040940</td>\n",
              "      <td>0.082942</td>\n",
              "      <td>0.048548</td>\n",
              "      <td>0.177691</td>\n",
              "      <td>0.091623</td>\n",
              "      <td>0.403864</td>\n",
              "      <td>0.041389</td>\n",
              "      <td>0.083854</td>\n",
              "      <td>0.731365</td>\n",
              "      <td>0.761614</td>\n",
              "      <td>0.826871</td>\n",
              "      <td>0.829912</td>\n",
              "      <td>0.552408</td>\n",
              "      <td>0.854744</td>\n",
              "      <td>0.799846</td>\n",
              "      <td>0.893675</td>\n",
              "      <td>SEKER</td>\n",
              "    </tr>\n",
              "    <tr>\n",
              "      <th>4</th>\n",
              "      <td>0.041504</td>\n",
              "      <td>0.065313</td>\n",
              "      <td>0.032862</td>\n",
              "      <td>0.200679</td>\n",
              "      <td>0.025565</td>\n",
              "      <td>0.165680</td>\n",
              "      <td>0.040123</td>\n",
              "      <td>0.084906</td>\n",
              "      <td>0.700538</td>\n",
              "      <td>0.949832</td>\n",
              "      <td>0.988408</td>\n",
              "      <td>0.951583</td>\n",
              "      <td>0.510741</td>\n",
              "      <td>1.000000</td>\n",
              "      <td>0.941770</td>\n",
              "      <td>0.989116</td>\n",
              "      <td>SEKER</td>\n",
              "    </tr>\n",
              "    <tr>\n",
              "      <th>...</th>\n",
              "      <td>...</td>\n",
              "      <td>...</td>\n",
              "      <td>...</td>\n",
              "      <td>...</td>\n",
              "      <td>...</td>\n",
              "      <td>...</td>\n",
              "      <td>...</td>\n",
              "      <td>...</td>\n",
              "      <td>...</td>\n",
              "      <td>...</td>\n",
              "      <td>...</td>\n",
              "      <td>...</td>\n",
              "      <td>...</td>\n",
              "      <td>...</td>\n",
              "      <td>...</td>\n",
              "      <td>...</td>\n",
              "      <td>...</td>\n",
              "    </tr>\n",
              "    <tr>\n",
              "      <th>13606</th>\n",
              "      <td>0.092559</td>\n",
              "      <td>0.160862</td>\n",
              "      <td>0.189318</td>\n",
              "      <td>0.187843</td>\n",
              "      <td>0.375584</td>\n",
              "      <td>0.788553</td>\n",
              "      <td>0.089967</td>\n",
              "      <td>0.172180</td>\n",
              "      <td>0.512286</td>\n",
              "      <td>0.942381</td>\n",
              "      <td>0.852151</td>\n",
              "      <td>0.465175</td>\n",
              "      <td>0.531785</td>\n",
              "      <td>0.382135</td>\n",
              "      <td>0.412185</td>\n",
              "      <td>0.974113</td>\n",
              "      <td>DERMASON</td>\n",
              "    </tr>\n",
              "    <tr>\n",
              "      <th>13607</th>\n",
              "      <td>0.092576</td>\n",
              "      <td>0.159358</td>\n",
              "      <td>0.176450</td>\n",
              "      <td>0.201964</td>\n",
              "      <td>0.321303</td>\n",
              "      <td>0.746241</td>\n",
              "      <td>0.089910</td>\n",
              "      <td>0.172207</td>\n",
              "      <td>0.786890</td>\n",
              "      <td>0.947954</td>\n",
              "      <td>0.862952</td>\n",
              "      <td>0.523974</td>\n",
              "      <td>0.509582</td>\n",
              "      <td>0.426233</td>\n",
              "      <td>0.470848</td>\n",
              "      <td>0.970912</td>\n",
              "      <td>DERMASON</td>\n",
              "    </tr>\n",
              "    <tr>\n",
              "      <th>13608</th>\n",
              "      <td>0.092739</td>\n",
              "      <td>0.160605</td>\n",
              "      <td>0.176384</td>\n",
              "      <td>0.203370</td>\n",
              "      <td>0.318558</td>\n",
              "      <td>0.743877</td>\n",
              "      <td>0.090219</td>\n",
              "      <td>0.172463</td>\n",
              "      <td>0.561689</td>\n",
              "      <td>0.936648</td>\n",
              "      <td>0.855785</td>\n",
              "      <td>0.525351</td>\n",
              "      <td>0.508683</td>\n",
              "      <td>0.427019</td>\n",
              "      <td>0.472240</td>\n",
              "      <td>0.943025</td>\n",
              "      <td>DERMASON</td>\n",
              "    </tr>\n",
              "    <tr>\n",
              "      <th>13609</th>\n",
              "      <td>0.092773</td>\n",
              "      <td>0.163657</td>\n",
              "      <td>0.179703</td>\n",
              "      <td>0.200669</td>\n",
              "      <td>0.330472</td>\n",
              "      <td>0.753971</td>\n",
              "      <td>0.090623</td>\n",
              "      <td>0.172517</td>\n",
              "      <td>0.482741</td>\n",
              "      <td>0.908991</td>\n",
              "      <td>0.834795</td>\n",
              "      <td>0.510145</td>\n",
              "      <td>0.514216</td>\n",
              "      <td>0.415330</td>\n",
              "      <td>0.456919</td>\n",
              "      <td>0.913342</td>\n",
              "      <td>DERMASON</td>\n",
              "    </tr>\n",
              "    <tr>\n",
              "      <th>13610</th>\n",
              "      <td>0.092824</td>\n",
              "      <td>0.169448</td>\n",
              "      <td>0.200882</td>\n",
              "      <td>0.176768</td>\n",
              "      <td>0.423337</td>\n",
              "      <td>0.819877</td>\n",
              "      <td>0.090347</td>\n",
              "      <td>0.172598</td>\n",
              "      <td>0.751569</td>\n",
              "      <td>0.933322</td>\n",
              "      <td>0.795826</td>\n",
              "      <td>0.416526</td>\n",
              "      <td>0.550320</td>\n",
              "      <td>0.346892</td>\n",
              "      <td>0.364762</td>\n",
              "      <td>0.970162</td>\n",
              "      <td>DERMASON</td>\n",
              "    </tr>\n",
              "  </tbody>\n",
              "</table>\n",
              "<p>13611 rows × 17 columns</p>\n",
              "</div>\n",
              "      <button class=\"colab-df-convert\" onclick=\"convertToInteractive('df-01f21d94-c7ba-44e6-869c-964477d2f33f')\"\n",
              "              title=\"Convert this dataframe to an interactive table.\"\n",
              "              style=\"display:none;\">\n",
              "        \n",
              "  <svg xmlns=\"http://www.w3.org/2000/svg\" height=\"24px\"viewBox=\"0 0 24 24\"\n",
              "       width=\"24px\">\n",
              "    <path d=\"M0 0h24v24H0V0z\" fill=\"none\"/>\n",
              "    <path d=\"M18.56 5.44l.94 2.06.94-2.06 2.06-.94-2.06-.94-.94-2.06-.94 2.06-2.06.94zm-11 1L8.5 8.5l.94-2.06 2.06-.94-2.06-.94L8.5 2.5l-.94 2.06-2.06.94zm10 10l.94 2.06.94-2.06 2.06-.94-2.06-.94-.94-2.06-.94 2.06-2.06.94z\"/><path d=\"M17.41 7.96l-1.37-1.37c-.4-.4-.92-.59-1.43-.59-.52 0-1.04.2-1.43.59L10.3 9.45l-7.72 7.72c-.78.78-.78 2.05 0 2.83L4 21.41c.39.39.9.59 1.41.59.51 0 1.02-.2 1.41-.59l7.78-7.78 2.81-2.81c.8-.78.8-2.07 0-2.86zM5.41 20L4 18.59l7.72-7.72 1.47 1.35L5.41 20z\"/>\n",
              "  </svg>\n",
              "      </button>\n",
              "      \n",
              "  <style>\n",
              "    .colab-df-container {\n",
              "      display:flex;\n",
              "      flex-wrap:wrap;\n",
              "      gap: 12px;\n",
              "    }\n",
              "\n",
              "    .colab-df-convert {\n",
              "      background-color: #E8F0FE;\n",
              "      border: none;\n",
              "      border-radius: 50%;\n",
              "      cursor: pointer;\n",
              "      display: none;\n",
              "      fill: #1967D2;\n",
              "      height: 32px;\n",
              "      padding: 0 0 0 0;\n",
              "      width: 32px;\n",
              "    }\n",
              "\n",
              "    .colab-df-convert:hover {\n",
              "      background-color: #E2EBFA;\n",
              "      box-shadow: 0px 1px 2px rgba(60, 64, 67, 0.3), 0px 1px 3px 1px rgba(60, 64, 67, 0.15);\n",
              "      fill: #174EA6;\n",
              "    }\n",
              "\n",
              "    [theme=dark] .colab-df-convert {\n",
              "      background-color: #3B4455;\n",
              "      fill: #D2E3FC;\n",
              "    }\n",
              "\n",
              "    [theme=dark] .colab-df-convert:hover {\n",
              "      background-color: #434B5C;\n",
              "      box-shadow: 0px 1px 3px 1px rgba(0, 0, 0, 0.15);\n",
              "      filter: drop-shadow(0px 1px 2px rgba(0, 0, 0, 0.3));\n",
              "      fill: #FFFFFF;\n",
              "    }\n",
              "  </style>\n",
              "\n",
              "      <script>\n",
              "        const buttonEl =\n",
              "          document.querySelector('#df-01f21d94-c7ba-44e6-869c-964477d2f33f button.colab-df-convert');\n",
              "        buttonEl.style.display =\n",
              "          google.colab.kernel.accessAllowed ? 'block' : 'none';\n",
              "\n",
              "        async function convertToInteractive(key) {\n",
              "          const element = document.querySelector('#df-01f21d94-c7ba-44e6-869c-964477d2f33f');\n",
              "          const dataTable =\n",
              "            await google.colab.kernel.invokeFunction('convertToInteractive',\n",
              "                                                     [key], {});\n",
              "          if (!dataTable) return;\n",
              "\n",
              "          const docLinkHtml = 'Like what you see? Visit the ' +\n",
              "            '<a target=\"_blank\" href=https://colab.research.google.com/notebooks/data_table.ipynb>data table notebook</a>'\n",
              "            + ' to learn more about interactive tables.';\n",
              "          element.innerHTML = '';\n",
              "          dataTable['output_type'] = 'display_data';\n",
              "          await google.colab.output.renderOutput(dataTable, element);\n",
              "          const docLink = document.createElement('div');\n",
              "          docLink.innerHTML = docLinkHtml;\n",
              "          element.appendChild(docLink);\n",
              "        }\n",
              "      </script>\n",
              "    </div>\n",
              "  </div>\n",
              "  "
            ]
          },
          "metadata": {},
          "execution_count": 34
        }
      ]
    },
    {
      "cell_type": "markdown",
      "source": [
        "#Train_test_split"
      ],
      "metadata": {
        "id": "TCSELIqYzmJA"
      }
    },
    {
      "cell_type": "code",
      "source": [
        "ind = ['Area', 'Perimeter', 'MajorAxisLength', 'MinorAxisLength',\n",
        "       'AspectRation', 'Eccentricity', 'ConvexArea', 'EquivDiameter', 'Extent',\n",
        "       'Solidity', 'roundness', 'Compactness', 'ShapeFactor1', 'ShapeFactor2',\n",
        "       'ShapeFactor3', 'ShapeFactor4']"
      ],
      "metadata": {
        "id": "D2VLoFY1zJi-"
      },
      "execution_count": null,
      "outputs": []
    },
    {
      "cell_type": "code",
      "source": [
        "#df_experiment\n",
        "X= df_experiment[ind].values\n",
        "y= df_experiment['Class']\n",
        "\n",
        "#df_experiment2\n",
        "\n",
        "X2 = df_experiment2[ind].values\n",
        "y2 = df_experiment2['Class']"
      ],
      "metadata": {
        "id": "-SJ6Ah-o0H8X"
      },
      "execution_count": null,
      "outputs": []
    },
    {
      "cell_type": "code",
      "source": [
        "from sklearn.model_selection import train_test_split  "
      ],
      "metadata": {
        "id": "5jM4gJYCzJ4G"
      },
      "execution_count": null,
      "outputs": []
    },
    {
      "cell_type": "code",
      "source": [
        "X_train, X_test, y_train, y_test = train_test_split(X, y, test_size = 0.2, random_state = 81) #df_experiment\n",
        "\n",
        "X2_train, X2_test, y2_train, y2_test = train_test_split(X2, y2, test_size = 0.2, random_state = 82) #df_experiment2"
      ],
      "metadata": {
        "id": "rgPwOan60BoT"
      },
      "execution_count": null,
      "outputs": []
    },
    {
      "cell_type": "markdown",
      "source": [
        "#Support Vector Machine"
      ],
      "metadata": {
        "id": "_u7rxPZ-0zZE"
      }
    },
    {
      "cell_type": "code",
      "source": [
        "#Métricas\n",
        "from sklearn.metrics import precision_score\n",
        "from sklearn.metrics import recall_score\n",
        "from sklearn.metrics import confusion_matrix"
      ],
      "metadata": {
        "id": "ZNTgiJXf3U7W"
      },
      "execution_count": null,
      "outputs": []
    },
    {
      "cell_type": "code",
      "source": [
        "from sklearn.svm import SVC"
      ],
      "metadata": {
        "id": "i1w0IBjA0w2G"
      },
      "execution_count": null,
      "outputs": []
    },
    {
      "cell_type": "markdown",
      "source": [
        "## df_experiment_model1\n"
      ],
      "metadata": {
        "id": "TTWJlmXB1sKU"
      }
    },
    {
      "cell_type": "code",
      "source": [
        "modelo1_experiment = SVC(kernel = 'poly').fit(X_train, y_train)"
      ],
      "metadata": {
        "id": "10U9ZdG91l3W"
      },
      "execution_count": null,
      "outputs": []
    },
    {
      "cell_type": "code",
      "source": [
        "modelo1_experiment_predict = modelo1_experiment.predict(X_test)"
      ],
      "metadata": {
        "id": "MYe1izp81-mE"
      },
      "execution_count": null,
      "outputs": []
    },
    {
      "cell_type": "code",
      "source": [
        "#Matriz de confusion\n",
        "matriz_model1_experiment = confusion_matrix(y_test , modelo1_experiment_predict)\n",
        "df_cm = pd.DataFrame(matriz_model1_experiment, range(7), range(7))\n",
        "\n",
        "#Visualizar la matriz de confusion\n",
        "plt.figure(figsize = (12,8))\n",
        "sns.set(font_scale= 1.4)\n",
        "sns.heatmap(df_cm , annot = True , annot_kws= {\"size\" : 20} , fmt = '.4g' ) #font size"
      ],
      "metadata": {
        "colab": {
          "base_uri": "https://localhost:8080/",
          "height": 507
        },
        "id": "8RJdSzDe2dDY",
        "outputId": "dbdf7020-4b3a-4ec6-f9cc-e2179b10c18a"
      },
      "execution_count": null,
      "outputs": [
        {
          "output_type": "execute_result",
          "data": {
            "text/plain": [
              "<matplotlib.axes._subplots.AxesSubplot at 0x7f956b30cc10>"
            ]
          },
          "metadata": {},
          "execution_count": 55
        },
        {
          "output_type": "display_data",
          "data": {
            "text/plain": [
              "<Figure size 864x576 with 2 Axes>"
            ],
            "image/png": "[encoded data removed]"
          },
          "metadata": {}
        }
      ]
    },
    {
      "cell_type": "code",
      "source": [
        "#Precision del modelo\n",
        "model1_experiment_precision = precision_score(y_test , modelo1_experiment_predict, average ='micro')\n",
        "model1_experiment_precision"
      ],
      "metadata": {
        "colab": {
          "base_uri": "https://localhost:8080/"
        },
        "id": "aiMYLoec4SkX",
        "outputId": "5f00b328-9eb8-4f9b-e3b7-1c0ccca1e113"
      },
      "execution_count": null,
      "outputs": [
        {
          "output_type": "execute_result",
          "data": {
            "text/plain": [
              "0.910025706940874"
            ]
          },
          "metadata": {},
          "execution_count": 58
        }
      ]
    },
    {
      "cell_type": "code",
      "source": [
        "#Recall del modelo\n",
        "model1_experiment_recall = recall_score(y_test , modelo1_experiment_predict, average = 'micro')\n",
        "model1_experiment_recall"
      ],
      "metadata": {
        "colab": {
          "base_uri": "https://localhost:8080/"
        },
        "id": "iEQRRYkq6Wjy",
        "outputId": "c83109d4-2fb4-4343-dba1-f6b14181d2f6"
      },
      "execution_count": null,
      "outputs": [
        {
          "output_type": "execute_result",
          "data": {
            "text/plain": [
              "0.910025706940874"
            ]
          },
          "metadata": {},
          "execution_count": 67
        }
      ]
    },
    {
      "cell_type": "markdown",
      "source": [
        "##df_experiment_model2"
      ],
      "metadata": {
        "id": "_Dyr0Ckh68hV"
      }
    },
    {
      "cell_type": "code",
      "source": [
        "modelo2_experiment = SVC(C = 2.0, gamma = \"auto\" ).fit(X_train, y_train)"
      ],
      "metadata": {
        "id": "P6XatvLd7FC4"
      },
      "execution_count": null,
      "outputs": []
    },
    {
      "cell_type": "code",
      "source": [
        "modelo2_experiment_predict = modelo2_experiment.predict(X_test)"
      ],
      "metadata": {
        "id": "lcj6LmS37FC4"
      },
      "execution_count": null,
      "outputs": []
    },
    {
      "cell_type": "code",
      "source": [
        "#Matriz de confusion\n",
        "matriz_model2_experiment = confusion_matrix(y_test , modelo2_experiment_predict)\n",
        "df_cm2 = pd.DataFrame(matriz_model2_experiment, range(7), range(7))\n",
        "\n",
        "#Visualizar la matriz de confusion\n",
        "plt.figure(figsize = (12,8))\n",
        "sns.set(font_scale= 1.4)\n",
        "sns.heatmap(df_cm2 , annot = True , annot_kws= {\"size\" : 20} , fmt = '.4g') #font size"
      ],
      "metadata": {
        "colab": {
          "base_uri": "https://localhost:8080/",
          "height": 507
        },
        "outputId": "cfcdaadc-75d4-4274-e0ba-7c722abfb7d6",
        "id": "MTgW0Czg7FC5"
      },
      "execution_count": null,
      "outputs": [
        {
          "output_type": "execute_result",
          "data": {
            "text/plain": [
              "<matplotlib.axes._subplots.AxesSubplot at 0x7f956b11ef10>"
            ]
          },
          "metadata": {},
          "execution_count": 73
        },
        {
          "output_type": "display_data",
          "data": {
            "text/plain": [
              "<Figure size 864x576 with 2 Axes>"
            ],
            "image/png": "[encoded data removed]"
          },
          "metadata": {}
        }
      ]
    },
    {
      "cell_type": "code",
      "source": [
        "#Precision del modelo\n",
        "model2_experiment_precision = precision_score(y_test , modelo2_experiment_predict, average ='micro')\n",
        "model2_experiment_precision"
      ],
      "metadata": {
        "colab": {
          "base_uri": "https://localhost:8080/"
        },
        "outputId": "d60a7cf6-d35c-4c60-a3ff-7230a6ea7cef",
        "id": "bG1i8I9l7FC8"
      },
      "execution_count": null,
      "outputs": [
        {
          "output_type": "execute_result",
          "data": {
            "text/plain": [
              "0.9309585016525891"
            ]
          },
          "metadata": {},
          "execution_count": 75
        }
      ]
    },
    {
      "cell_type": "code",
      "source": [
        "#Recall del modelo\n",
        "model2_experiment_recall = recall_score(y_test , modelo2_experiment_predict, average ='micro')\n",
        "model2_experiment_recall"
      ],
      "metadata": {
        "colab": {
          "base_uri": "https://localhost:8080/"
        },
        "outputId": "8ebda5d0-382b-4284-99d0-198e5994c0f9",
        "id": "POlxSaWY7FC9"
      },
      "execution_count": null,
      "outputs": [
        {
          "output_type": "execute_result",
          "data": {
            "text/plain": [
              "0.9309585016525891"
            ]
          },
          "metadata": {},
          "execution_count": 76
        }
      ]
    },
    {
      "cell_type": "markdown",
      "source": [
        "## df_experiment2_model1\n"
      ],
      "metadata": {
        "id": "ztfkO01tB6hn"
      }
    },
    {
      "cell_type": "code",
      "source": [
        "modelo1_experiment2 = SVC(kernel = 'poly').fit(X2_train, y2_train)"
      ],
      "metadata": {
        "id": "olbzYPvDB6ho"
      },
      "execution_count": null,
      "outputs": []
    },
    {
      "cell_type": "code",
      "source": [
        "modelo1_experiment2_predict = modelo1_experiment2.predict(X2_test)"
      ],
      "metadata": {
        "id": "0CtgqjKXB6ho"
      },
      "execution_count": null,
      "outputs": []
    },
    {
      "cell_type": "code",
      "source": [
        "#Matriz de confusion\n",
        "matriz_model1_experiment2 = confusion_matrix(y2_test , modelo1_experiment2_predict)\n",
        "df_cm3 = pd.DataFrame(matriz_model1_experiment2, range(7), range(7))\n",
        "\n",
        "#Visualizar la matriz de confusion\n",
        "plt.figure(figsize = (12,8))\n",
        "sns.set(font_scale= 1.4)\n",
        "sns.heatmap(df_cm3 , annot = True , annot_kws= {\"size\" : 20} , fmt = '.4g' ) #font size"
      ],
      "metadata": {
        "colab": {
          "base_uri": "https://localhost:8080/",
          "height": 507
        },
        "outputId": "f89fcbad-6db0-4d03-c019-f059e638d8eb",
        "id": "3oYmpcECB6hp"
      },
      "execution_count": null,
      "outputs": [
        {
          "output_type": "execute_result",
          "data": {
            "text/plain": [
              "<matplotlib.axes._subplots.AxesSubplot at 0x7f956ae2c590>"
            ]
          },
          "metadata": {},
          "execution_count": 80
        },
        {
          "output_type": "display_data",
          "data": {
            "text/plain": [
              "<Figure size 864x576 with 2 Axes>"
            ],
            "image/png": "[encoded data removed]"
          },
          "metadata": {}
        }
      ]
    },
    {
      "cell_type": "code",
      "source": [
        "#Precision del modelo\n",
        "model1_experiment2_precision = precision_score(y2_test , modelo1_experiment2_predict, average ='micro')\n",
        "model1_experiment2_precision"
      ],
      "metadata": {
        "colab": {
          "base_uri": "https://localhost:8080/"
        },
        "outputId": "6df31d63-2ae7-4a29-a03a-7063edb41150",
        "id": "UjyIPXfsB6hp"
      },
      "execution_count": null,
      "outputs": [
        {
          "output_type": "execute_result",
          "data": {
            "text/plain": [
              "0.9316929856775615"
            ]
          },
          "metadata": {},
          "execution_count": 82
        }
      ]
    },
    {
      "cell_type": "code",
      "source": [
        "#Recall del modelo\n",
        "model1_experiment2_recall = recall_score(y2_test , modelo1_experiment2_predict, average = 'micro')\n",
        "model1_experiment2_recall"
      ],
      "metadata": {
        "colab": {
          "base_uri": "https://localhost:8080/"
        },
        "outputId": "f66bc9bb-da5c-4817-9ef5-a6873b09636e",
        "id": "FzkZU87eB6hq"
      },
      "execution_count": null,
      "outputs": [
        {
          "output_type": "execute_result",
          "data": {
            "text/plain": [
              "0.9316929856775615"
            ]
          },
          "metadata": {},
          "execution_count": 81
        }
      ]
    },
    {
      "cell_type": "markdown",
      "source": [
        "##df_experiment2_model2"
      ],
      "metadata": {
        "id": "p9mG15jHClRI"
      }
    },
    {
      "cell_type": "code",
      "source": [
        "modelo2_experiment2 = SVC(C = 2.0, gamma = \"auto\" ).fit(X2_train, y2_train)"
      ],
      "metadata": {
        "id": "LEQgzDxnClRI"
      },
      "execution_count": null,
      "outputs": []
    },
    {
      "cell_type": "code",
      "source": [
        "modelo2_experiment2_predict = modelo2_experiment2.predict(X2_test)"
      ],
      "metadata": {
        "id": "ILWAcrDcClRI"
      },
      "execution_count": null,
      "outputs": []
    },
    {
      "cell_type": "code",
      "source": [
        "#Matriz de confusion\n",
        "matriz_model2_experiment2 = confusion_matrix(y2_test , modelo2_experiment2_predict)\n",
        "df_cm4 = pd.DataFrame(matriz_model2_experiment2, range(7), range(7))\n",
        "\n",
        "#Visualizar la matriz de confusion\n",
        "plt.figure(figsize = (12,8))\n",
        "sns.set(font_scale= 1.4)\n",
        "sns.heatmap(df_cm4 , annot = True , annot_kws= {\"size\" : 20} , fmt = '.4g') #font size"
      ],
      "metadata": {
        "colab": {
          "base_uri": "https://localhost:8080/",
          "height": 507
        },
        "outputId": "3ea63f86-37b5-46ca-cff8-c8838d199c7f",
        "id": "f3PBmOkVClRI"
      },
      "execution_count": null,
      "outputs": [
        {
          "output_type": "execute_result",
          "data": {
            "text/plain": [
              "<matplotlib.axes._subplots.AxesSubplot at 0x7f956adc30d0>"
            ]
          },
          "metadata": {},
          "execution_count": 86
        },
        {
          "output_type": "display_data",
          "data": {
            "text/plain": [
              "<Figure size 864x576 with 2 Axes>"
            ],
            "image/png": "[encoded data removed]"
          },
          "metadata": {}
        }
      ]
    },
    {
      "cell_type": "code",
      "source": [
        "#Precision del modelo\n",
        "model2_experiment2_precision = precision_score(y2_test , modelo2_experiment2_predict, average ='micro')\n",
        "model2_experiment2_precision"
      ],
      "metadata": {
        "colab": {
          "base_uri": "https://localhost:8080/"
        },
        "outputId": "affe9f78-a6bf-46ac-86f8-41d96049812c",
        "id": "pd-3LOrXClRJ"
      },
      "execution_count": null,
      "outputs": [
        {
          "output_type": "execute_result",
          "data": {
            "text/plain": [
              "0.9206757253029747"
            ]
          },
          "metadata": {},
          "execution_count": 88
        }
      ]
    },
    {
      "cell_type": "code",
      "source": [
        "#Recall del modelo\n",
        "model2_experiment2_recall = recall_score(y2_test , modelo2_experiment2_predict, average ='micro')\n",
        "model2_experiment2_recall"
      ],
      "metadata": {
        "colab": {
          "base_uri": "https://localhost:8080/"
        },
        "outputId": "1cb3bcb1-4317-4cd8-deaa-fa9220bfb331",
        "id": "6mV1ur98ClRJ"
      },
      "execution_count": null,
      "outputs": [
        {
          "output_type": "execute_result",
          "data": {
            "text/plain": [
              "0.9206757253029747"
            ]
          },
          "metadata": {},
          "execution_count": 87
        }
      ]
    }
  ]
}